{
 "cells": [
  {
   "cell_type": "markdown",
   "metadata": {},
   "source": [
    "### 2.1 Goals, Principles, and Patterns\n",
    "##### 2.1.3 Design Patterns\n",
    "We present several design patterns in this book, and we show how they can be consistently applied to implementations of data structures and algorithms. These design patterns fall into **two groups—patterns** for solving algorithm design problems and patterns for solving software engineering problems.\n",
    "\n",
    "The algorithm **design patterns** we discuss include the following:\n",
    "\n",
    "* Recursion (Chapter 4)\n",
    "* Amortization (Sections 5.3 and 11.4)\n",
    "* Divide-and-conquer (Section 12.2.1)\n",
    "* Prune-and-search, also known as decrease-and-conquer(Section 12.7.1) • Brute force (Section 13.2.1)\n",
    "* Dynamic programming (Section 13.3).\n",
    "* The greedy method (Sections 13.4.2, 14.6.2, and 14.7)\n",
    "\n",
    "Likewise, the **software engineering** design patterns we discuss include:\n",
    "\n",
    "* Iterator (Sections 1.8 and 2.3.4)\n",
    "* Adapter (Section 6.1.2)\n",
    "* Position (Sections 7.4 and 8.1.2)\n",
    "* Composition (Sections 7.6.1, 9.2.1, and 10.1.4)\n",
    "* Template method (Sections 2.4.3, 8.4.6, 10.1.3, 10.5.2, and 11.2.1) • Locator (Section 9.5.1)\n",
    "* Factory method (Section 11.2.1)"
   ]
  }
 ],
 "metadata": {
  "kernelspec": {
   "display_name": "Py36",
   "language": "python",
   "name": "py36"
  },
  "language_info": {
   "codemirror_mode": {
    "name": "ipython",
    "version": 3
   },
   "file_extension": ".py",
   "mimetype": "text/x-python",
   "name": "python",
   "nbconvert_exporter": "python",
   "pygments_lexer": "ipython3",
   "version": "3.6.8"
  }
 },
 "nbformat": 4,
 "nbformat_minor": 2
}
