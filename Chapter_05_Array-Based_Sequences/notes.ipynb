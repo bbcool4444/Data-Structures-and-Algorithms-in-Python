{
 "cells": [
  {
   "cell_type": "code",
   "execution_count": 1,
   "metadata": {},
   "outputs": [
    {
     "data": {
      "text/plain": [
       "'3.6.8 |Anaconda, Inc.| (default, Dec 29 2018, 19:04:46) \\n[GCC 4.2.1 Compatible Clang 4.0.1 (tags/RELEASE_401/final)]'"
      ]
     },
     "execution_count": 1,
     "metadata": {},
     "output_type": "execute_result"
    }
   ],
   "source": [
    "import sys; sys.version"
   ]
  },
  {
   "cell_type": "markdown",
   "metadata": {},
   "source": [
    "### 5.1 Python's Sequence Types\n",
    "* Public Behaviors\n",
    "* Implementation Details\n",
    "* Asymptotic and Experimental Analyses"
   ]
  },
  {
   "cell_type": "markdown",
   "metadata": {},
   "source": [
    "### 5.2 Low-Level Arrays\n",
    "* The details on what happens when operating an array in ***random access memory(RAM)***\n",
    "* The arithmetic for calculating memory addresses within an array\n",
    "\n",
    "#### 5.2.1 Referential Arrays\n",
    "* immutable and mutable objects in list\n",
    "\n",
    "#### 5.2.2 Compact Arrays in Python\n",
    "* Several advantages of compact arrays over referential structures\n",
    "* A glance at Python's array module"
   ]
  },
  {
   "cell_type": "markdown",
   "metadata": {},
   "source": [
    "### 5.3 Dynamic Arrays and Amortization\n",
    "* The details of memory using by dynamic array in Python\n",
    "\n",
    "#### 5.3.1 Implementing a Dynamic Array\n",
    "1. Allocate a new array B with larger capacity.\n",
    "2. Set $B[i] = A[i],$ for $i = 0,...,n−1,$ where n denotes current number of items.\n",
    "3. Set $A = B$, that is, we henceforth use $B$ as the array supporting the list.\n",
    "4. Insert the new element in the new array.\n",
    "\n",
    "#### 5.3.2 Amortized Analysis of Dynamic Arrays\n",
    "* Learn how to perform an amortized analysis by an example of cyber-dollar for a constant amount of computing time\n",
    "* Proposition 5.1<br />\n",
    "    *Let $S$ be a sequence implemented by means of a dynamic array with initial capacity one, using the strategy of doubling the array size when full. The total time to perform a series of $n$ append operations in $S$, starting from S being empty, is $O(n)$.*\n",
    "    \n",
    "* Proposition 5.2<br />\n",
    "    *Performing a series of n append operations on an initially empty dynamic array using a fixed increment with each resize takes $Ω(n2)$ time.*\n",
    "    \n",
    "* A lesson to be learned from Propositions 5.1 and 5.2 is that a subtle difference in an algorithm design can produce drastic differences in the asymptotic performance, and that a careful analysis can provide important insights into the design of a data structure.\n",
    "\n",
    "#### 5.3.3 Python’s List Class\n",
    "* a measuring the amortized cost of append for Python’s list class"
   ]
  },
  {
   "cell_type": "markdown",
   "metadata": {},
   "source": [
    "### 5.4 Efficiency of Python’s Sequence Types\n",
    "#### 5.4.1 Python’s List and Tuple Classes\n",
    "\n",
    "**Asymptotic performance of the nonmutating behaviors of the list and tuple classes.**\n",
    "* Constant-Time Operations\n",
    "* Searching for Occurrences of a Value\n",
    "* Lexicographic Comparisons\n",
    "* Creating New Instances\n",
    "\n",
    "**Asymptotic performance of the mutating behaviors of the list class.**\n",
    "* Adding Elements to a List\n",
    "* Removing Elements from a List\n",
    "\n",
    "* Extending a List\n",
    "\n",
    "    The greater efficiency of extend is threefold:\n",
    "    * There is always some advantage to using an appropriate Python method, because those methods are often implemented natively in a compiled language (rather than as interpreted Python code).\n",
    "    * There is less overhead to a single function call that accomplishes all the work, versus many individual function calls.\n",
    "    * Increased efficiency of extend comes from the fact that the resulting size of the updated list can be calculated in advance. If the second data set is quite large, there is some risk that the underlying dynamic array might be resized multiple times when using repeated calls to append.\n",
    "    \n",
    "* Constructing New Lists\n",
    "\n",
    "#### 5.4.2 Python’s String Class\n",
    "* Pattern Matching\n",
    "* Composing Strings<br />\n",
    "    Why \"+=\" method is **ineffecient** in composing strings, and a better way to do it."
   ]
  },
  {
   "cell_type": "markdown",
   "metadata": {},
   "source": [
    "### 5.5 Using Array-Based Sequences\n",
    "#### 5.5.1 Storing High Scores for a Game\n",
    "* A class for maintaining high scores by the implementation is quite similar to that of the insert method of the list class, as described on pages 204–205.\n",
    "\n",
    "#### 5.5.2 Sorting a Sequence"
   ]
  },
  {
   "cell_type": "code",
   "execution_count": 8,
   "metadata": {},
   "outputs": [
    {
     "name": "stdout",
     "output_type": "stream",
     "text": [
      "insertion_sort:\n",
      "[9, 8, 7, 6, 5, 4, 3, 2, 1]\n",
      "[8, 9, 7, 6, 5, 4, 3, 2, 1]\n",
      "[7, 8, 9, 6, 5, 4, 3, 2, 1]\n",
      "[6, 7, 8, 9, 5, 4, 3, 2, 1]\n",
      "[5, 6, 7, 8, 9, 4, 3, 2, 1]\n",
      "[4, 5, 6, 7, 8, 9, 3, 2, 1]\n",
      "[3, 4, 5, 6, 7, 8, 9, 2, 1]\n",
      "[2, 3, 4, 5, 6, 7, 8, 9, 1]\n",
      "[1, 2, 3, 4, 5, 6, 7, 8, 9]\n",
      "\n",
      "insertionSortOpposite:\n",
      "[9, 8, 7, 6, 5, 4, 3, 2, 1]\n",
      "[9, 8, 7, 6, 5, 4, 3, 1, 2]\n",
      "[9, 8, 7, 6, 5, 4, 1, 2, 3]\n",
      "[9, 8, 7, 6, 5, 1, 2, 3, 4]\n",
      "[9, 8, 7, 6, 1, 2, 3, 4, 5]\n",
      "[9, 8, 7, 1, 2, 3, 4, 5, 6]\n",
      "[9, 8, 1, 2, 3, 4, 5, 6, 7]\n",
      "[9, 1, 2, 3, 4, 5, 6, 7, 8]\n",
      "[1, 2, 3, 4, 5, 6, 7, 8, 9]\n"
     ]
    }
   ],
   "source": [
    "def insertion_sort(A):\n",
    "    '''Code Fragment 5.10: Python code for performing insertion-sort on a list.\n",
    "    '''\n",
    "    for k in range(1, len(A)):\n",
    "        cur = A[k]\n",
    "        j=k\n",
    "        while j > 0 and A[j-1] > cur:\n",
    "            A[j] = A[j-1]\n",
    "            j -= 1\n",
    "        A[j] = cur\n",
    "        print(A)\n",
    "        \n",
    "\n",
    "def insertionSortOpposite(A):\n",
    "    '''An implementation to reverse the operations of \"Code Fragment 5.10\"\n",
    "    '''\n",
    "    for i in range(len(A)-2, -1, -1):\n",
    "        cur = A[i]\n",
    "        j = i\n",
    "        while j < len(A)-1 and cur > A[j+1]:\n",
    "            A[j] = A[j+1]\n",
    "            j += 1\n",
    "        A[j] = cur\n",
    "        print(A)\n",
    "\n",
    "\n",
    "print('insertion_sort:')\n",
    "l = list(range(9, 0, -1))\n",
    "print(l)\n",
    "insertion_sort(l)\n",
    "\n",
    "print('\\ninsertionSortOpposite:')\n",
    "l = list(range(9, 0, -1))\n",
    "print(l)\n",
    "insertionSortOpposite(l)"
   ]
  },
  {
   "cell_type": "markdown",
   "metadata": {},
   "source": [
    "#### 5.5.3 Simple Cryptography\n",
    "An interesting application of strings and lists is ***cryptography***, the science of secret messages and their applications. This field studies ways of performing ***encryption***, which takes a message, called the ***plaintext***, and converts it into a scrambled message, called the ***ciphertext***. Likewise, cryptography also studies corresponding ways of performing ***decryption***, which takes a ciphertext and turns it back into its original plaintext.\n",
    "\n",
    "* Converting Between Strings and Character Lists<br />\n",
    "    A convenient technique for per- forming string transformations is to create an equivalent list of characters, edit the list, and then reassemble a (new) string based on the list.\n",
    "* Using Characters as Array Indices<br />\n",
    "    We can rely on the fact that characters are represented in Unicode by integer code points, and the code points for the uppercase letters of the Latin alphabet are consecutive (for simplicity, we restrict our encryption to uppercase letters)."
   ]
  },
  {
   "cell_type": "markdown",
   "metadata": {},
   "source": [
    "### 5.6 Multidimensional Data Sets\n",
    "* Constructing a Multidimensional List"
   ]
  },
  {
   "cell_type": "markdown",
   "metadata": {},
   "source": [
    "#### Two-Dimensional Arrays and Positional Games\n",
    "* Tic-Tac-Toe"
   ]
  }
 ],
 "metadata": {
  "kernelspec": {
   "display_name": "Py36",
   "language": "python",
   "name": "py36"
  },
  "language_info": {
   "codemirror_mode": {
    "name": "ipython",
    "version": 3
   },
   "file_extension": ".py",
   "mimetype": "text/x-python",
   "name": "python",
   "nbconvert_exporter": "python",
   "pygments_lexer": "ipython3",
   "version": "3.6.8"
  }
 },
 "nbformat": 4,
 "nbformat_minor": 2
}
