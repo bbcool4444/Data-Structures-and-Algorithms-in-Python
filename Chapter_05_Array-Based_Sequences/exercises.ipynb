{
 "cells": [
  {
   "cell_type": "code",
   "execution_count": 1,
   "metadata": {},
   "outputs": [
    {
     "data": {
      "text/plain": [
       "'3.6.8 |Anaconda, Inc.| (default, Dec 29 2018, 19:04:46) \\n[GCC 4.2.1 Compatible Clang 4.0.1 (tags/RELEASE_401/final)]'"
      ]
     },
     "execution_count": 1,
     "metadata": {},
     "output_type": "execute_result"
    }
   ],
   "source": [
    "import sys; sys.version"
   ]
  },
  {
   "cell_type": "markdown",
   "metadata": {},
   "source": [
    "## Reinforcement"
   ]
  },
  {
   "cell_type": "markdown",
   "metadata": {},
   "source": [
    "### R-5.1\n",
    "Execute the experiment from Code Fragment 5.1 and compare the results on your system to those we report in Code Fragment 5.2."
   ]
  },
  {
   "cell_type": "code",
   "execution_count": 2,
   "metadata": {},
   "outputs": [
    {
     "name": "stdout",
     "output_type": "stream",
     "text": [
      "Length:   0; Size in bytes:   64\n",
      "Length:   1; Size in bytes:   96\n",
      "Length:   2; Size in bytes:   96\n",
      "Length:   3; Size in bytes:   96\n",
      "Length:   4; Size in bytes:   96\n",
      "Length:   5; Size in bytes:  128\n",
      "Length:   6; Size in bytes:  128\n",
      "Length:   7; Size in bytes:  128\n",
      "Length:   8; Size in bytes:  128\n",
      "Length:   9; Size in bytes:  192\n",
      "Length:  10; Size in bytes:  192\n",
      "Length:  11; Size in bytes:  192\n",
      "Length:  12; Size in bytes:  192\n",
      "Length:  13; Size in bytes:  192\n",
      "Length:  14; Size in bytes:  192\n",
      "Length:  15; Size in bytes:  192\n",
      "Length:  16; Size in bytes:  192\n",
      "Length:  17; Size in bytes:  264\n",
      "Length:  18; Size in bytes:  264\n",
      "Length:  19; Size in bytes:  264\n",
      "Length:  20; Size in bytes:  264\n",
      "Length:  21; Size in bytes:  264\n",
      "Length:  22; Size in bytes:  264\n",
      "Length:  23; Size in bytes:  264\n",
      "Length:  24; Size in bytes:  264\n",
      "Length:  25; Size in bytes:  264\n",
      "Length:  26; Size in bytes:  344\n"
     ]
    }
   ],
   "source": [
    "import sys  # provides getsizeof function\n",
    "data=[]\n",
    "for k in range(27):          # NOTE: must fix choice of n\n",
    "    a = len(data)            # number of elements  \n",
    "    b = sys.getsizeof(data)  # actual size in bytes\n",
    "    print('Length: {0:3d}; Size in bytes: {1:4d}'.format(a, b))\n",
    "    data.append(None)        # increase length by one"
   ]
  },
  {
   "cell_type": "markdown",
   "metadata": {},
   "source": [
    "The experiment runs on my environment requires 64 bytes(rather than 72 bytes in Code Fragment 5.1) but has the same increasing amount of 32 bytes whenever needed resize the list as the Code Fragment 5.1."
   ]
  },
  {
   "cell_type": "markdown",
   "metadata": {},
   "source": [
    "### R-5.2\n",
    "In Code Fragment 5.1, we perform an experiment to compare the length of a Python list to its underlying memory usage. Determining the sequence of array sizes requires a manual inspection of the output of that program. Redesign the experiment so that the program outputs only those values of $k$ at which the existing capacity is exhausted. For example, on a system consistent with the results of Code Fragment 5.2, your program should output that the sequence of array capacities are 0, 4, 8, 16, 25, ...."
   ]
  },
  {
   "cell_type": "code",
   "execution_count": 3,
   "metadata": {},
   "outputs": [
    {
     "name": "stdout",
     "output_type": "stream",
     "text": [
      "capacity: 0\n",
      "capacity: 4\n",
      "capacity: 8\n",
      "capacity: 16\n",
      "capacity: 25\n",
      "capacity: 35\n",
      "capacity: 46\n",
      "capacity: 58\n",
      "capacity: 72\n",
      "capacity: 88\n",
      "capacity: 106\n",
      "capacity: 126\n",
      "capacity: 148\n",
      "capacity: 173\n",
      "capacity: 201\n",
      "capacity: 233\n",
      "capacity: 269\n",
      "capacity: 309\n",
      "capacity: 354\n",
      "capacity: 405\n",
      "capacity: 462\n",
      "capacity: 526\n",
      "capacity: 598\n",
      "capacity: 679\n",
      "capacity: 771\n",
      "capacity: 874\n",
      "capacity: 990\n"
     ]
    }
   ],
   "source": [
    "import sys  # provides getsizeof function\n",
    "data=[]\n",
    "capacity = sys.getsizeof(data)\n",
    "for k in range(1000):          # NOTE: must fix choice of n\n",
    "    a = len(data)            # number of elements  \n",
    "    b = sys.getsizeof(data)  # actual size in bytes\n",
    "    if capacity != b:\n",
    "        print(f'capacity: {a-1}')\n",
    "#         print(f'Spend {(b - capacity) / 8} cyber dollers to resize the list')  # cyber dollers\n",
    "        capacity = b\n",
    "\n",
    "    data.append(None)        # increase length by one"
   ]
  },
  {
   "cell_type": "markdown",
   "metadata": {},
   "source": [
    "### R-5.3\n",
    "Modify the experiment from Code Fragment 5.1 in order to demonstrate that Python’s list class occasionally shrinks the size of its underlying array when elements are popped from a list."
   ]
  },
  {
   "cell_type": "code",
   "execution_count": 4,
   "metadata": {},
   "outputs": [
    {
     "name": "stdout",
     "output_type": "stream",
     "text": [
      "=== increasing the list ===\n",
      "Length:   0; Size in bytes:   64\n",
      "Length:   1; Size in bytes:   96\n",
      "Length:   2; Size in bytes:   96\n",
      "Length:   3; Size in bytes:   96\n",
      "Length:   4; Size in bytes:   96\n",
      "Length:   5; Size in bytes:  128\n",
      "Length:   6; Size in bytes:  128\n",
      "Length:   7; Size in bytes:  128\n",
      "Length:   8; Size in bytes:  128\n",
      "Length:   9; Size in bytes:  192\n",
      "Length:  10; Size in bytes:  192\n",
      "Length:  11; Size in bytes:  192\n",
      "Length:  12; Size in bytes:  192\n",
      "Length:  13; Size in bytes:  192\n",
      "Length:  14; Size in bytes:  192\n",
      "Length:  15; Size in bytes:  192\n",
      "Length:  16; Size in bytes:  192\n",
      "Length:  17; Size in bytes:  264\n",
      "Length:  18; Size in bytes:  264\n",
      "Length:  19; Size in bytes:  264\n",
      "Length:  20; Size in bytes:  264\n",
      "Length:  21; Size in bytes:  264\n",
      "Length:  22; Size in bytes:  264\n",
      "Length:  23; Size in bytes:  264\n",
      "Length:  24; Size in bytes:  264\n",
      "Length:  25; Size in bytes:  264\n",
      "Length:  26; Size in bytes:  344\n",
      "\n",
      "=== shrinking the list ===\n",
      "Length:  27; Size in bytes:  344\n",
      "Length:  26; Size in bytes:  344\n",
      "Length:  25; Size in bytes:  344\n",
      "Length:  24; Size in bytes:  344\n",
      "Length:  23; Size in bytes:  344\n",
      "Length:  22; Size in bytes:  344\n",
      "Length:  21; Size in bytes:  344\n",
      "Length:  20; Size in bytes:  344\n",
      "Length:  19; Size in bytes:  344\n",
      "Length:  18; Size in bytes:  344\n",
      "Length:  17; Size in bytes:  344\n",
      "Length:  16; Size in bytes:  256\n",
      "Length:  15; Size in bytes:  256\n",
      "Length:  14; Size in bytes:  256\n",
      "Length:  13; Size in bytes:  256\n",
      "Length:  12; Size in bytes:  256\n",
      "Length:  11; Size in bytes:  208\n",
      "Length:  10; Size in bytes:  208\n",
      "Length:   9; Size in bytes:  208\n",
      "Length:   8; Size in bytes:  160\n",
      "Length:   7; Size in bytes:  160\n",
      "Length:   6; Size in bytes:  160\n",
      "Length:   5; Size in bytes:  128\n",
      "Length:   4; Size in bytes:  128\n",
      "Length:   3; Size in bytes:  112\n",
      "Length:   2; Size in bytes:  104\n",
      "Length:   1; Size in bytes:   96\n"
     ]
    }
   ],
   "source": [
    "import sys  # provides getsizeof function\n",
    "\n",
    "\n",
    "print('=== increasing the list ===')\n",
    "data=[]\n",
    "for k in range(27):          # NOTE: must fix choice of n\n",
    "    a = len(data)            # number of elements  \n",
    "    b = sys.getsizeof(data)  # actual size in bytes\n",
    "    print('Length: {0:3d}; Size in bytes: {1:4d}'.format(a, b))\n",
    "    data.append(None)        # increase length by one\n",
    "    \n",
    "print('\\n=== shrinking the list ===')\n",
    "while data:\n",
    "    a = len(data)            # number of elements  \n",
    "    b = sys.getsizeof(data)  # actual size in bytes\n",
    "    print('Length: {0:3d}; Size in bytes: {1:4d}'.format(a, b))\n",
    "    data.pop()        # increase length by one"
   ]
  },
  {
   "cell_type": "markdown",
   "metadata": {},
   "source": [
    "### R-5.4\n",
    "Our DynamicArray class, as given in Code Fragment 5.3, does not support use of negative indices with `__getitem__`. Update that method to better match the semantics of a Python list."
   ]
  },
  {
   "cell_type": "code",
   "execution_count": 5,
   "metadata": {
    "collapsed": true
   },
   "outputs": [],
   "source": [
    "def __getitem__(self, k):\n",
    "    '''Return element at index k.\n",
    "    '''\n",
    "    if not -self._n <= k < self._n:\n",
    "        raise IndexError('invalid index')\n",
    "    return(self._A[k])"
   ]
  },
  {
   "cell_type": "markdown",
   "metadata": {},
   "source": [
    "### R-5.5\n",
    "Redo the justification of Proposition 5.1 assuming that the the cost of growing the array from size $k$ to size $2k$ is $3k$ cyber-dollars. How much should each append operation be charged to make the amortization work?"
   ]
  },
  {
   "cell_type": "markdown",
   "metadata": {},
   "source": [
    "**Justification:** Let us assume that one cyber-dollar is enough to pay for the execution of each append operation in $S$, excluding the time spent for growing the array. Also, let us assume that growing the array from size $k$ to size $2k$ requires $3k$ cyber-dollars for the time spent initializing the new array. We shall charge each append operation **seven** cyber-dollars. Thus, we overcharge each append operation that does not cause an overflow by **six** cyber-dollars. Think of the **six** cyber-dollars profited in an insertion that does not grow the array as being “stored” with the cell in which the element was inserted. An overflow occurs when the array S has $2^i$ elements, for some integer $i ≥ 0$, and the size of the array used by the array representing $S$ is $2^i$. Thus, doubling the size of the array will require **$3 \\cdot 2^i$** cyber-dollars. Fortunately, these cyber-dollars can be found stored in cells $2^{i−1}$ through $2^i − 1$. (See Figure 5.14.) Note that the previous overflow occurred when the number of elements became larger than $2^i−1$ for the first time, and thus the cyber-dollars stored in cells $2^{i−1}$ through $2^i − 1$ have not yet been spent. Therefore, we have a valid amortization scheme in which each operation is charged **seven** cyber-dollars and all the computing time is paid for. That is, we can pay for the execution of $n$ append operations using **$7n$** cyber-dollars. In other words, the amortized running time of each append operation is $O(1)$; hence, the total running time of $n$ append operations is $O(n)$."
   ]
  },
  {
   "cell_type": "markdown",
   "metadata": {},
   "source": [
    "<img style=\"center\" src=\"R-5_5.jpeg\" width=\"50%\" height=\"50%\">"
   ]
  },
  {
   "cell_type": "markdown",
   "metadata": {},
   "source": [
    "### R-5.6\n",
    "Our implementation of insert for the DynamicArray class, as given in Code Fragment 5.5, has the following inefficiency. In the case when a resize occurs, the resize operation takes time to copy all the elements from an old array to a new array, and then the subsequent loop in the body of insert shifts many of those elements. Give an improved implementation of the insert method, so that, in the case of a resize, the elements are shifted into their final position during that operation, thereby avoiding the subsequent shifting."
   ]
  },
  {
   "cell_type": "code",
   "execution_count": 44,
   "metadata": {},
   "outputs": [
    {
     "name": "stdout",
     "output_type": "stream",
     "text": [
      "['a', 99, 98, 97, 96, 95, 94, 93, 92, 91, 90, 89, 88, 87, 86, 85, 84, 83, 82, 81, 80, 79, 78, 77, 76, 75, 74, 73, 72, 71, 70, 69, 68, 67, 66, 65, 64, 63, 62, 61, 60, 59, 58, 57, 56, 55, 54, 53, 52, 51, 50, 49, 48, 47, 46, 45, 44, 43, 42, 41, 40, 39, 38, 37, 36, 35, 34, 33, 32, 31, 30, 29, 28, 27, 26, 25, 24, 23, 22, 21, 20, 19, 18, 17, 16, 15, 14, 13, 12, 11, 10, 9, 8, 7, 6, 5, 4, 3, 2, 1, 0]\n",
      "0.0027670860290527344\n",
      "\n",
      "Increasing capacity to: 1\n",
      "Increasing capacity to: 2\n",
      "Increasing capacity to: 4\n",
      "Increasing capacity to: 8\n",
      "Increasing capacity to: 16\n",
      "Increasing capacity to: 32\n",
      "Increasing capacity to: 64\n",
      "['a', 99, 98, 97, 96, 95, 94, 93, 92, 91, 90, 89, 88, 87, 86, 85, 84, 83, 82, 81, 80, 79, 78, 77, 76, 75, 74, 73, 72, 71, 70, 69, 68, 67, 66, 65, 64, 63, 62, 61, 60, 59, 58, 57, 56, 55, 54, 53, 52, 51, 50, 49, 48, 47, 46, 45, 44, 43, 42, 41, 40, 39, 38, 37, 36, 35, 34, 33, 32, 31, 30, 29, 28, 27, 26, 25, 24, 23, 22, 21, 20, 19, 18, 17, 16, 15, 14, 13, 12, 11, 10, 9, 8, 7, 6, 5, 4, 3, 2, 1, 0]\n",
      "0.004109859466552734\n"
     ]
    }
   ],
   "source": [
    "'''Code Fragment 5.3: An implementation of a DynamicArray class,\n",
    "   using a raw array from the ctypes module as storage.\n",
    "'''\n",
    "\n",
    "\n",
    "import ctypes  # provides low-level arrays\n",
    "\n",
    "\n",
    "class DynamicArray:\n",
    "    '''A dynamic array class akin to a simplified Python list.\n",
    "    '''\n",
    "    def __init__(self):\n",
    "        '''Create an empty array.\n",
    "        '''\n",
    "        self._n = 0                                  # count actual elements \n",
    "        self._capacity = 1                           # default array capacity \n",
    "        self._A = self._make_array(self._capacity)  # low-level array\n",
    "        \n",
    "    def __len__(self):\n",
    "        '''Return number of elements stored in the array.\n",
    "        '''\n",
    "        return(self._n)\n",
    "         \n",
    "    def __getitem__(self, k):\n",
    "        '''Return element at index k.\n",
    "        '''\n",
    "        if not 0 <= k < self._n:\n",
    "            raise IndexError('invalid index')\n",
    "        return self._A[k]                            # retrieve from array\n",
    "    \n",
    "    def append(self, obj):\n",
    "        '''Add object to end of the array.\n",
    "        '''\n",
    "        if self._n == self._capacity:                # not enough room\n",
    "            self._resize(2 * self._capacity)         # so double capacity\n",
    "        self._A[self._n] = obj\n",
    "        self._n += 1\n",
    "        \n",
    "    def _resize(self, c):                            # nonpublic utitity\n",
    "        '''Resize internal array to capacity c.\n",
    "        '''\n",
    "        B = self._make_array(c)                      # new (bigger) array \n",
    "        for k in range(self._n):                     # for each existing value\n",
    "            B[k] = self._A[k]\n",
    "        self._A = B                                  # use the bigger array\n",
    "        self._capacity = c\n",
    "        \n",
    "    def _make_array(self, c):                        # nonpublic utitity\n",
    "        '''Return new array with capacity c.\n",
    "        '''\n",
    "        return(c * ctypes.py_object)()               # see ctypes documentation\n",
    "\n",
    "\n",
    "    def insert(self, k, value):\n",
    "        '''Code Fragment 5.5: Implementation of insert for our DynamicArray class.\n",
    "           Insert value at index k, shifting subsequent values rightward.\n",
    "        '''\n",
    "         # (for simplicity, we assume 0 <= k <= n in this verion)\n",
    "        if self._n == self._capacity:          # not enough room\n",
    "            self._resize(2 * self._capacity)   # so double capacity\n",
    "        for j in range(self._n, k, -1):        # shift rightmost first\n",
    "            self._A[j] = self._A[j-1]\n",
    "        self._A[k] = value                     # store newest element\n",
    "        self._n += 1\n",
    "        \n",
    "\n",
    "class ImprovedInsertion(DynamicArray):\n",
    "    def _resize(self, c, insert=False):               # nonpublic utitity\n",
    "        '''The resize operation variation from Code Fragment 5.3 for R-5.6 solution\n",
    "        '''\n",
    "        B = self._make_array(c)                      # new (bigger) array \n",
    "        if insert:\n",
    "            for k in range(self._n):                     # for each existing value\n",
    "                B[k+1] = self._A[k]\n",
    "        else:\n",
    "            for k in range(self._n):                     # for each existing value\n",
    "                B[k] = self._A[k]\n",
    "        self._A = B                                  # use the bigger array\n",
    "        self._capacity = c\n",
    "        \n",
    "    def insert(self, k, value):\n",
    "        '''The insert operation variation from Code fregment 5.5 for R-5.6 solution\n",
    "        '''\n",
    "        # (for simplicity, we assume 0 <= k <= n in this verion)\n",
    "        if self._n == self._capacity:\n",
    "            print(f'Increasing capacity to: {self._capacity}')\n",
    "            self._resize(2 * self._capacity, insert=True)\n",
    "        else:\n",
    "            for j in range(self._n, k, -1):        # shift rightmost first\n",
    "                self._A[j] = self._A[j-1]\n",
    "        self._A[k] = value\n",
    "        self._n += 1\n",
    "\n",
    "    \n",
    "if __name__ == '__main__':\n",
    "    import time\n",
    "    t = time.time()\n",
    "    da = DynamicArray()\n",
    "    for i in range(10**2):\n",
    "        da.insert(0, i)\n",
    "    da.insert(0, 'a')\n",
    "    print([i for i in da])\n",
    "    print(time.time() - t)\n",
    "    print()\n",
    "    \n",
    "    t = time.time()\n",
    "    da2 = ImprovedInsertion()\n",
    "    for i in range(10**2):\n",
    "        da2.insert(0, i)\n",
    "    da2.insert(0, 'a')\n",
    "    print([i for i in da2])\n",
    "    print(time.time() - t)"
   ]
  },
  {
   "cell_type": "markdown",
   "metadata": {},
   "source": [
    "### R-5.7\n",
    "Let A be an array of size $n ≥ 2$ containing integers from $1$ to $n − 1$, inclusive, with exactly one repeated. Describe a fast algorithm for finding the integer in $A$ that is repeated."
   ]
  },
  {
   "cell_type": "markdown",
   "metadata": {},
   "source": [
    "### Using Sorting as a Problem-Solving Tool\n",
    "An even better algorithm for the ***element uniqueness problem*** is based on using sorting as a problem-solving tool. In this case, by sorting the sequence of elements, we are guaranteed that any duplicate elements will be placed next to each other. Thus, to determine if there are any duplicates, all we need to do is perform a sin- gle pass over the sorted sequence, looking for consecutive duplicates. A Python implementation of this algorithm is as follows:\n",
    "\n",
    "```python\n",
    "def unique2(S):\n",
    "    '''Return True if there are no duplicate elements in sequence S.'''\n",
    "    temp = sorted(S)                 # create a sorted copy of S\n",
    "    for j in range(1, len(temp)):\n",
    "        if S[j−1] == S[j]:\n",
    "            return(False)            # found duplicate pair\n",
    "    return(True)                     # if we reach this, elements were unique\n",
    "```\n",
    "    Code Fragment 3.8: Algorithm unique2 for testing element uniqueness.\n",
    "The built-in function, `sorted`, as described in Section 1.5.2, produces a copy of the original list with elements in sorted order. It guarantees a worst-case running time of $O(nlogn)$; see Chapter 12 for a discussion of common sorting algorithms. Once the data is sorted, the subsequent loop runs in $O(n)$ time, and so the entire unique2 algorithm runs in $O(nlogn)$ time."
   ]
  },
  {
   "cell_type": "markdown",
   "metadata": {},
   "source": [
    "### R-5.8\n",
    "Experimentally evaluate the efficiency of the `pop` method of Python’s list class when using varying indices as a parameter, as we did for `insert` on page 205. Report your results akin to Table 5.5."
   ]
  },
  {
   "cell_type": "code",
   "execution_count": 11,
   "metadata": {},
   "outputs": [
    {
     "name": "stdout",
     "output_type": "stream",
     "text": [
      "==== N(100) ====\n",
      "1.2159347534179688e-05\n",
      "3.409385681152344e-05\n",
      "3.814697265625e-05\n",
      "==== N(1000) ====\n",
      "0.00021004676818847656\n",
      "0.0005278587341308594\n",
      "0.0002779960632324219\n",
      "==== N(10000) ====\n",
      "0.0020151138305664062\n",
      "0.011661052703857422\n",
      "0.021746158599853516\n",
      "==== N(100000) ====\n",
      "0.008688926696777344\n",
      "0.8558149337768555\n",
      "1.8224198818206787\n",
      "==== N(1000000) ====\n",
      "0.10703182220458984\n",
      "143.8716959953308\n",
      "391.64639115333557\n"
     ]
    }
   ],
   "source": [
    "import time\n",
    "\n",
    "\n",
    "def efficiency_of_pop(N):\n",
    "    print(f'==== N({N}) ====')\n",
    "    # In the first case, we repeatedly pop with the default parameter(the last element of a list).\n",
    "    data = [None for i in range(N)]\n",
    "    t = time.time()\n",
    "    while data:\n",
    "        data.pop()\n",
    "    print(time.time() - t)\n",
    "\n",
    "    # In a second case, we repeatedly pop with the middle element of a list.\n",
    "    data = list(range(N))\n",
    "    t = time.time()\n",
    "    while data:\n",
    "        mid = len(data) // 2\n",
    "        data.pop(mid)\n",
    "    print(time.time() - t)\n",
    "\n",
    "    # In a third case, we repeatedly pop with the first element of a list.\n",
    "    data = list(range(N))\n",
    "    t = time.time()\n",
    "    while data:\n",
    "        data.pop(0)\n",
    "    print(time.time() - t)\n",
    "    \n",
    "if __name__ == '__main__':\n",
    "    [efficiency_of_pop(10**n) for n in range(2, 7)]"
   ]
  },
  {
   "cell_type": "markdown",
   "metadata": {},
   "source": [
    "|         |          |         | $N$    |         |           |\n",
    "|:--------|:---------|:--------|:-------|:--------|:----------|\n",
    "|          | 100      | 1,000   | 10,000 | 100,000 | 1,000,000 |\n",
    "|$k$ = $0$     | 1.22e-05 | 0.00021 | 0.0020 | 0.0087  | 0.11      |\n",
    "|$k$ = $n$ // $2$| 3.41e-05 | 0.00053 | 0.12   | 0.8559  | 143.87    |\n",
    "|$k$ = $n$     | 3.81e-05 | 0.00028 | 0.28   | 1.82    | 391.65    |"
   ]
  },
  {
   "cell_type": "markdown",
   "metadata": {},
   "source": [
    "### R-5.9\n",
    "Explain the changes that would have to be made to the program of Code Fragment 5.11 so that it could perform the Caesar cipher for messages that are written in an alphabet-based language other than English, such as Greek, Russian, or Hebrew."
   ]
  },
  {
   "cell_type": "markdown",
   "metadata": {},
   "source": [
    "To make Caesar cipher works for an alphabet-based language other than English we need:\n",
    "1. We should figure out the whole characters of a language that we want to apply for cipher, so that we can map those characters to the respective numbers 0 to n(the total number characters of the language) through the `ord` method.\n",
    "2. We need to change the fixed number of characters to a variable and the first character to another variable, as below:"
   ]
  },
  {
   "cell_type": "code",
   "execution_count": 18,
   "metadata": {},
   "outputs": [
    {
     "name": "stdout",
     "output_type": "stream",
     "text": [
      "Secret:  WKH HDJOH LV LQ SODB; PHHW DW MRH V.\n",
      "Message:  THE EAGLE IS IN PLAY; MEET AT JOE S.\n"
     ]
    }
   ],
   "source": [
    "'''Modified from Code Fragment 5.11 to support alphabet-based language other than English.\n",
    "'''\n",
    "\n",
    "\n",
    "class CaesarCipher:\n",
    "    '''Class for doing encryption and decryption using a Caesar cipher.\n",
    "    '''\n",
    "    def __init__(self, shift, numbers_of_char, first_char):\n",
    "        '''Construct Caesar cipher using given integer shift for rotation.\n",
    "        '''\n",
    "        encoder = [None] * numbers_of_char  # temp array for encryption\n",
    "        decoder = [None] * numbers_of_char  # temp array for decryption\n",
    "        for k in range(numbers_of_char):\n",
    "            encoder[k] = chr((k + shift) % numbers_of_char + ord(first_char))\n",
    "            decoder[k] = chr((k - shift) % numbers_of_char + ord(first_char))\n",
    "        self._forward = ''.join(encoder)  # will store as string\n",
    "        self._backward = ''.join(decoder)  # since fixed\n",
    "        self._first_char = first_char\n",
    "    \n",
    "    def encrypt(self, message):\n",
    "        '''Return string representing encripted message.\n",
    "        '''\n",
    "        return self._transform(message, self._forward)\n",
    "    \n",
    "    def decrypt(self, secret):\n",
    "        '''Return decrypted message given encrypted secret.\n",
    "        '''\n",
    "        return self._transform(secret, self._backward)\n",
    "    \n",
    "    def _transform(self, original, code):\n",
    "        '''Utility to perform transformation based on given code string.\n",
    "        '''\n",
    "        msg = list(original)\n",
    "        for k in range(len(msg)):\n",
    "            if msg[k].isupper():\n",
    "                j = ord(msg[k]) - ord(self._first_char)  # index from 0 to 25 \n",
    "                msg[k] = code[j]            # replace this character\n",
    "                \n",
    "        return(''.join(msg))\n",
    "    \n",
    "    \n",
    "if __name__ == '__main__' :\n",
    "    cipher = CaesarCipher(3, 26, 'A')\n",
    "    message = \"THE EAGLE IS IN PLAY; MEET AT JOE S.\"\n",
    "    coded = cipher.encrypt(message)\n",
    "    print('Secret: ', coded)\n",
    "    answer = cipher.decrypt(coded)\n",
    "    print('Message: ', answer)\n"
   ]
  },
  {
   "cell_type": "markdown",
   "metadata": {},
   "source": [
    "### R-5.10\n",
    "The constructor for the CaesarCipher class in Code Fragment 5.11 can be implemented with a two-line body by building the forward and backward strings using a combination of the join method and an appropriate comprehension syntax. Give such an implementation."
   ]
  },
  {
   "cell_type": "code",
   "execution_count": 19,
   "metadata": {
    "collapsed": true
   },
   "outputs": [],
   "source": [
    "def __init__(self, shift):\n",
    "    self._forward = ''.join(chr((k + shift) % 26 + ord('A')) for k in range(26))\n",
    "    self._backward = ''.join(chr((k - shift) % 26 + ord('A')) for k in range(26))"
   ]
  },
  {
   "cell_type": "markdown",
   "metadata": {},
   "source": [
    "### R-5.11\n",
    "Use standard control structures to compute the sum of all numbers in an $n × n$ data set, represented as a list of lists."
   ]
  },
  {
   "cell_type": "code",
   "execution_count": 3,
   "metadata": {},
   "outputs": [
    {
     "name": "stdout",
     "output_type": "stream",
     "text": [
      "[[70, 9, 87, 83, 81], [61, 59, 41, 76, 48], [32, 77, 60, 47, 94], [27, 30, 25, 84, 35], [42, 88, 44, 9, 43]]\n",
      "1352\n"
     ]
    }
   ],
   "source": [
    "import random\n",
    "\n",
    "\n",
    "def matrix_sum(S):\n",
    "    result = 0\n",
    "    for i in S:\n",
    "        for j in i:\n",
    "            result += j\n",
    "    \n",
    "    return(result)\n",
    "        \n",
    "        \n",
    "N = 5\n",
    "A = [[random.randint(0, 100) for i in range(N)] for j in range(N)]\n",
    "print(A)\n",
    "print(matrix_sum(A))"
   ]
  },
  {
   "cell_type": "markdown",
   "metadata": {},
   "source": [
    "### R-5.12\n",
    "Describe how the built-in sum function can be combined with Python’s comprehension syntax to compute the sum of all numbers in an $n × n$ data set, represented as a list of lists."
   ]
  },
  {
   "cell_type": "code",
   "execution_count": 6,
   "metadata": {},
   "outputs": [
    {
     "name": "stdout",
     "output_type": "stream",
     "text": [
      "[[91, 52, 11, 27, 77], [1, 58, 4, 30, 88], [31, 84, 82, 92, 24], [8, 70, 26, 17, 69], [76, 25, 63, 81, 24]]\n",
      "1211\n"
     ]
    }
   ],
   "source": [
    "N = 5\n",
    "A = [[random.randint(0, 100) for i in range(N)] for j in range(N)]\n",
    "print(A)\n",
    "print(sum(sum(i) for i in A))"
   ]
  }
 ],
 "metadata": {
  "kernelspec": {
   "display_name": "Py36",
   "language": "python",
   "name": "py36"
  },
  "language_info": {
   "codemirror_mode": {
    "name": "ipython",
    "version": 3
   },
   "file_extension": ".py",
   "mimetype": "text/x-python",
   "name": "python",
   "nbconvert_exporter": "python",
   "pygments_lexer": "ipython3",
   "version": "3.6.8"
  }
 },
 "nbformat": 4,
 "nbformat_minor": 2
}
