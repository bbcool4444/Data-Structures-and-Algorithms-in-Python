{
 "cells": [
  {
   "cell_type": "code",
   "execution_count": 1,
   "metadata": {},
   "outputs": [
    {
     "data": {
      "text/plain": [
       "'3.6.8 |Anaconda, Inc.| (default, Dec 29 2018, 19:04:46) \\n[GCC 4.2.1 Compatible Clang 4.0.1 (tags/RELEASE_401/final)]'"
      ]
     },
     "execution_count": 1,
     "metadata": {},
     "output_type": "execute_result"
    }
   ],
   "source": [
    "import sys; sys.version"
   ]
  },
  {
   "cell_type": "markdown",
   "metadata": {},
   "source": [
    "## Reinforcement"
   ]
  },
  {
   "cell_type": "markdown",
   "metadata": {},
   "source": [
    "### R-4.1\n",
    "Describe a recursive algorithm for finding the maximum element in a sequence, $S$, of $n$ elements. What is your running time and space usage?"
   ]
  },
  {
   "cell_type": "markdown",
   "metadata": {},
   "source": [
    "This recursive definition can be formalized as\n",
    "$$\n",
    "FindMax(S, index) = \\left\\{ \\begin{array}{lcl}\n",
    "         S[0] \\quad\\quad\\quad\\quad\\quad \\ if\\ n=0\\\\\n",
    "         max(S[index], S[index-1]) \\quad\\quad if\\ index \\geq 1\\\\\n",
    "             \\end{array}\\right.\n",
    "$$\n",
    "\n",
    "And an implementation for this definition:"
   ]
  },
  {
   "cell_type": "code",
   "execution_count": 6,
   "metadata": {},
   "outputs": [
    {
     "data": {
      "text/plain": [
       "9"
      ]
     },
     "execution_count": 6,
     "metadata": {},
     "output_type": "execute_result"
    }
   ],
   "source": [
    "def findMax(S, index):\n",
    "    if index == 0:\n",
    "        return(S[index])\n",
    "    if S[index] > findMax(S, index-1):\n",
    "        return(S[index])\n",
    "    else:\n",
    "        return(S[index-1])\n",
    "\n",
    "\n",
    "l = [1, 2, 3, 4, 5, 6, 7, 8, 9]\n",
    "\n",
    "findMax(l, len(l)-1)"
   ]
  },
  {
   "cell_type": "markdown",
   "metadata": {},
   "source": [
    "This is a linear recursion with each invocation of the body makes at most one new recursive call, and the primitive operation is the comparsion, so we can find that the time complexity is: $f(n) = n-1+1$ is $O(n)$ as well as the memory using of array in worest case."
   ]
  },
  {
   "cell_type": "markdown",
   "metadata": {},
   "source": [
    "### R-4.2\n",
    "Draw the recursion trace for the computation of $power(2,5)$, using the traditional function implemented in Code Fragment 4.11."
   ]
  },
  {
   "cell_type": "code",
   "execution_count": 8,
   "metadata": {},
   "outputs": [
    {
     "data": {
      "text/plain": [
       "32"
      ]
     },
     "execution_count": 8,
     "metadata": {},
     "output_type": "execute_result"
    }
   ],
   "source": [
    "# Code Fragment 4.11: Computing the power function using trivial recursion.\n",
    "\n",
    "def power(x, n):\n",
    "    # Compute the value x**n for integer n.\n",
    "    if n == 0:\n",
    "        return 1\n",
    "    else:\n",
    "        return x * power(x, n-1)\n",
    "    \n",
    "power(2, 5)"
   ]
  },
  {
   "cell_type": "markdown",
   "metadata": {},
   "source": [
    "<img style=\"center\" src=\"R-4.2.jpeg\" width=\"50%\" height=\"50%\">"
   ]
  },
  {
   "cell_type": "markdown",
   "metadata": {},
   "source": [
    "### R-4.3\n",
    "Draw the recursion trace for the computation of $power(2,18)$, using the repeated squaring algorithm, as implemented in Code Fragment 4.12."
   ]
  },
  {
   "cell_type": "markdown",
   "metadata": {},
   "source": [
    "$$\n",
    "power(x, n) = \\left\\{ \\begin{array}{lcl}\n",
    "         1 \\quad\\quad\\quad\\quad\\quad\\quad\\quad\\ \\ \\ if\\ n=0\\\\\n",
    "         x \\cdot (power(x, \\lfloor \\frac{n}{2} \\rfloor))^2 \\quad if\\ n > 0\\ is\\ odd\\\\\n",
    "         (power(x, \\lfloor \\frac{n}{2} \\rfloor))^2 \\quad\\quad if\\ n > 0\\ is\\ even\\\\\n",
    "             \\end{array}\\right.\n",
    "$$\n",
    "\n",
    "and a implementation for this definition:"
   ]
  },
  {
   "cell_type": "code",
   "execution_count": 15,
   "metadata": {},
   "outputs": [
    {
     "data": {
      "text/plain": [
       "64"
      ]
     },
     "execution_count": 15,
     "metadata": {},
     "output_type": "execute_result"
    }
   ],
   "source": [
    "# Code Fragment 4.12: Computing the power function using repeated squaring.\n",
    "\n",
    "def power(x, n):\n",
    "    #Compute the value x     n for integer n.\n",
    "    if n == 0:\n",
    "        return 1\n",
    "    else:\n",
    "        partial = power(x, n // 2)\n",
    "        result = partial * partial\n",
    "    if n % 2 == 1:\n",
    "        result *= x\n",
    "        \n",
    "    return result\n",
    "    \n",
    "power(2, 6)"
   ]
  },
  {
   "cell_type": "markdown",
   "metadata": {},
   "source": [
    "<img style=\"center\" src=\"R-4_3.jpeg\" width=\"50%\" height=\"50%\">"
   ]
  },
  {
   "cell_type": "markdown",
   "metadata": {},
   "source": [
    "### <span style=\"color:red\">R-4.4</span>\n",
    "Draw the recursion trace for the execution of function $reverse(S, 0, 5)$ (Code Fragment 4.10) on $S = [4, 3, 6, 2, 6]$."
   ]
  },
  {
   "cell_type": "markdown",
   "metadata": {},
   "source": [
    "### <span style=\"color:red\">R-4.5</span>\n",
    "Draw the recursion trace for the execution of function $PuzzleSolve(3,S,U)$ (Code Fragment 4.14), where $S$ is empty and $U = \\{a, b, c, d\\}$."
   ]
  },
  {
   "cell_type": "markdown",
   "metadata": {},
   "source": [
    "### <span style=\"color:red\">R-4.6</span>\n",
    "Describe a recursive function for computing the $n^{th}$ ***Harmonic number***, $H_n = ∑^n_{i=1} 1/i$."
   ]
  },
  {
   "cell_type": "markdown",
   "metadata": {},
   "source": [
    "### <span style=\"color:red\">R-4.7</span>\n",
    "Describe a recursive function for converting a string of digits into the integer it represents. For example, '13531' represents the integer 13,531."
   ]
  },
  {
   "cell_type": "markdown",
   "metadata": {},
   "source": [
    "### <span style=\"color:red\">R-4.8</span>\n",
    "Isabel has an interesting way of summing up the values in a sequence $A$ of $n$ integers, where $n$ is a power of two. She creates a new sequence $B$ of half the size of $A$ and sets $B[i] = A[2i]+A[2i+1]$, for $i = 0,1,...,(n/2)−1$. If $B$ has size 1, then she outputs $B[0]$. Otherwise, she replaces $A$ with $B$, and repeats the process. What is the running time of her algorithm?"
   ]
  }
 ],
 "metadata": {
  "kernelspec": {
   "display_name": "Py36",
   "language": "python",
   "name": "py36"
  },
  "language_info": {
   "codemirror_mode": {
    "name": "ipython",
    "version": 3
   },
   "file_extension": ".py",
   "mimetype": "text/x-python",
   "name": "python",
   "nbconvert_exporter": "python",
   "pygments_lexer": "ipython3",
   "version": "3.6.8"
  }
 },
 "nbformat": 4,
 "nbformat_minor": 2
}
