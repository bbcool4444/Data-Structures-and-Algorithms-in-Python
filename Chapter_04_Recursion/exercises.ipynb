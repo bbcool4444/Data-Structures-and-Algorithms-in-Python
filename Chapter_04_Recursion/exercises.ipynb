{
 "cells": [
  {
   "cell_type": "code",
   "execution_count": 1,
   "metadata": {},
   "outputs": [
    {
     "data": {
      "text/plain": [
       "'3.6.8 |Anaconda, Inc.| (default, Dec 29 2018, 19:04:46) \\n[GCC 4.2.1 Compatible Clang 4.0.1 (tags/RELEASE_401/final)]'"
      ]
     },
     "execution_count": 1,
     "metadata": {},
     "output_type": "execute_result"
    }
   ],
   "source": [
    "import sys; sys.version"
   ]
  },
  {
   "cell_type": "markdown",
   "metadata": {},
   "source": [
    "## Reinforcement"
   ]
  },
  {
   "cell_type": "markdown",
   "metadata": {},
   "source": [
    "### R-4.1\n",
    "Describe a recursive algorithm for finding the maximum element in a sequence, $S$, of $n$ elements. What is your running time and space usage?"
   ]
  },
  {
   "cell_type": "markdown",
   "metadata": {},
   "source": [
    "This recursive definition can be formalized as\n",
    "$$\n",
    "FindMax(S, index) = \\left\\{ \\begin{array}{lcl}\n",
    "         S[0] \\quad\\quad\\quad\\quad\\quad \\ if\\ index=0\\\\\n",
    "         max(S[index], S[index-1]) \\quad\\quad if\\ index \\geq 1\\\\\n",
    "             \\end{array}\\right.\n",
    "$$\n",
    "\n",
    "And an implementation for this definition:"
   ]
  },
  {
   "cell_type": "code",
   "execution_count": 6,
   "metadata": {},
   "outputs": [
    {
     "data": {
      "text/plain": [
       "9"
      ]
     },
     "execution_count": 6,
     "metadata": {},
     "output_type": "execute_result"
    }
   ],
   "source": [
    "def findMax(S, index):\n",
    "    if index == 0:\n",
    "        return(S[index])\n",
    "    if S[index] > findMax(S, index-1):\n",
    "        return(S[index])\n",
    "    else:\n",
    "        return(S[index-1])\n",
    "\n",
    "\n",
    "l = [1, 2, 3, 4, 5, 6, 7, 8, 9]\n",
    "\n",
    "findMax(l, len(l)-1)"
   ]
  },
  {
   "cell_type": "markdown",
   "metadata": {},
   "source": [
    "This is a linear recursion with each invocation of the body makes at most one new recursive call, and the primitive operation is the comparsion, so we can find that the time complexity is: $f(n) = n-1+1$ is $O(n)$ as well as the memory using of array in worest case."
   ]
  },
  {
   "cell_type": "markdown",
   "metadata": {},
   "source": [
    "### R-4.2\n",
    "Draw the recursion trace for the computation of $power(2,5)$, using the traditional function implemented in Code Fragment 4.11."
   ]
  },
  {
   "cell_type": "code",
   "execution_count": 8,
   "metadata": {},
   "outputs": [
    {
     "data": {
      "text/plain": [
       "32"
      ]
     },
     "execution_count": 8,
     "metadata": {},
     "output_type": "execute_result"
    }
   ],
   "source": [
    "# Code Fragment 4.11: Computing the power function using trivial recursion.\n",
    "\n",
    "def power(x, n):\n",
    "    # Compute the value x**n for integer n.\n",
    "    if n == 0:\n",
    "        return 1\n",
    "    else:\n",
    "        return x * power(x, n-1)\n",
    "    \n",
    "power(2, 5)"
   ]
  },
  {
   "cell_type": "markdown",
   "metadata": {},
   "source": [
    "<img style=\"center\" src=\"R-4.2.jpeg\" width=\"50%\" height=\"50%\">"
   ]
  },
  {
   "cell_type": "markdown",
   "metadata": {},
   "source": [
    "### R-4.3\n",
    "Draw the recursion trace for the computation of $power(2,18)$, using the repeated squaring algorithm, as implemented in Code Fragment 4.12."
   ]
  },
  {
   "cell_type": "markdown",
   "metadata": {},
   "source": [
    "$$\n",
    "power(x, n) = \\left\\{ \\begin{array}{lcl}\n",
    "         1 \\quad\\quad\\quad\\quad\\quad\\quad\\quad\\ \\ \\ if\\ n=0\\\\\n",
    "         x \\cdot (power(x, \\lfloor \\frac{n}{2} \\rfloor))^2 \\quad if\\ n > 0\\ is\\ odd\\\\\n",
    "         (power(x, \\lfloor \\frac{n}{2} \\rfloor))^2 \\quad\\quad if\\ n > 0\\ is\\ even\\\\\n",
    "             \\end{array}\\right.\n",
    "$$\n",
    "\n",
    "and a implementation for this definition:"
   ]
  },
  {
   "cell_type": "code",
   "execution_count": 15,
   "metadata": {},
   "outputs": [
    {
     "data": {
      "text/plain": [
       "64"
      ]
     },
     "execution_count": 15,
     "metadata": {},
     "output_type": "execute_result"
    }
   ],
   "source": [
    "# Code Fragment 4.12: Computing the power function using repeated squaring.\n",
    "\n",
    "def power(x, n):\n",
    "    #Compute the value x     n for integer n.\n",
    "    if n == 0:\n",
    "        return 1\n",
    "    else:\n",
    "        partial = power(x, n // 2)\n",
    "        result = partial * partial\n",
    "    if n % 2 == 1:\n",
    "        result *= x\n",
    "        \n",
    "    return result\n",
    "    \n",
    "power(2, 6)"
   ]
  },
  {
   "cell_type": "markdown",
   "metadata": {},
   "source": [
    "<img style=\"center\" src=\"R-4_3.jpeg\" width=\"50%\" height=\"50%\">"
   ]
  },
  {
   "cell_type": "markdown",
   "metadata": {},
   "source": [
    "### R-4.4\n",
    "Draw the recursion trace for the execution of function $reverse(S, 0, 5)$ (Code Fragment 4.10) on $S = [4, 3, 6, 2, 6]$."
   ]
  },
  {
   "cell_type": "code",
   "execution_count": 3,
   "metadata": {},
   "outputs": [
    {
     "name": "stdout",
     "output_type": "stream",
     "text": [
      "[6, 2, 6, 3, 4]\n"
     ]
    }
   ],
   "source": [
    "# Code Fragment 4.10: Reversing the elements of a sequence using linear recursion.\n",
    "\n",
    "def reverse(S, start, stop):\n",
    "    # Reverse elements in implicit slice S[start:stop].\n",
    "    if start < stop - 1:\n",
    "        S[start], S[stop-1] = S[stop-1], S[start]\n",
    "        reverse(S, start+1, stop-1)\n",
    "        \n",
    "S = [4, 3, 6, 2, 6]\n",
    "reverse(S, 0, 5)\n",
    "print(S)"
   ]
  },
  {
   "cell_type": "markdown",
   "metadata": {},
   "source": [
    "<img style=\"center\" src=\"R-4_4.jpeg\" width=\"50%\" height=\"50%\">"
   ]
  },
  {
   "cell_type": "markdown",
   "metadata": {},
   "source": [
    "### R-4.5\n",
    "Draw the recursion trace for the execution of function $PuzzleSolve(3,S,U)$ (Code Fragment 4.14), where $S$ is empty and $U = \\{a, b, c, d\\}$."
   ]
  },
  {
   "cell_type": "markdown",
   "metadata": {},
   "source": [
    "**Algorithm** PuzzleSolve(k,S,U):<br/>\n",
    "&nbsp;&nbsp;&nbsp;&nbsp; **Input:** An integer k, sequence S, and set U<br />\n",
    "&nbsp;&nbsp;&nbsp;&nbsp; **Output:** An enumeration of all k-length extensions to S using elements in U without repetitions<br />\n",
    "&nbsp;&nbsp;&nbsp;&nbsp; **for** each e in U **do**<br />\n",
    "&nbsp;&nbsp;&nbsp;&nbsp;&nbsp;&nbsp;&nbsp;&nbsp; Add e to the end of S<br />\n",
    "&nbsp;&nbsp;&nbsp;&nbsp;&nbsp;&nbsp;&nbsp;&nbsp; Remove e from U \n",
    "&nbsp;&nbsp;&nbsp;&nbsp;&nbsp;&nbsp;&nbsp;&nbsp;\n",
    "&nbsp;&nbsp;&nbsp;&nbsp;&nbsp;&nbsp;&nbsp;&nbsp;\n",
    "<span style=\"color: gray\">{e is now being used}</span> <br />\n",
    "&nbsp;&nbsp;&nbsp;&nbsp;&nbsp;&nbsp;&nbsp;&nbsp; **if** k == 1 **then**<br />\n",
    "&nbsp;&nbsp;&nbsp;&nbsp;&nbsp;&nbsp;&nbsp;&nbsp;&nbsp;&nbsp;&nbsp;&nbsp; Test whether S is a configuration that solves the puzzle<br />\n",
    "&nbsp;&nbsp;&nbsp;&nbsp;&nbsp;&nbsp;&nbsp;&nbsp;&nbsp;&nbsp;&nbsp;&nbsp; **if** S solves the puzzle **then**<br />\n",
    "&nbsp;&nbsp;&nbsp;&nbsp;&nbsp;&nbsp;&nbsp;&nbsp;&nbsp;&nbsp;&nbsp;&nbsp;&nbsp;&nbsp;&nbsp;&nbsp; **return** “Solution found: ” S<br />\n",
    "&nbsp;&nbsp;&nbsp;&nbsp;&nbsp;&nbsp;&nbsp;&nbsp; **else**<br />\n",
    "&nbsp;&nbsp;&nbsp;&nbsp;&nbsp;&nbsp;&nbsp;&nbsp;&nbsp;&nbsp;&nbsp;&nbsp; PuzzleSolve(k−1,S,U)\n",
    "&nbsp;&nbsp;&nbsp;&nbsp;&nbsp;&nbsp;&nbsp;&nbsp;\n",
    "&nbsp;&nbsp;&nbsp;&nbsp;&nbsp;&nbsp;&nbsp;&nbsp;\n",
    "<span style=\"color: gray\">{a recursive call}</span> <br />\n",
    "&nbsp;&nbsp;&nbsp;&nbsp;&nbsp;&nbsp;&nbsp;&nbsp; Remove e from the end of S<br />\n",
    "&nbsp;&nbsp;&nbsp;&nbsp;&nbsp;&nbsp;&nbsp;&nbsp; Add e back to U\n",
    "&nbsp;&nbsp;&nbsp;&nbsp;&nbsp;&nbsp;&nbsp;&nbsp;\n",
    "&nbsp;&nbsp;&nbsp;&nbsp;&nbsp;&nbsp;&nbsp;&nbsp;\n",
    "<span style=\"color: gray\">{e is now considered as unused}</span> <br />\n",
    "**Code Fragment 4.14:** Solving a combinatorial puzzle by enumerating and testing all possible configurations."
   ]
  },
  {
   "cell_type": "code",
   "execution_count": 81,
   "metadata": {},
   "outputs": [
    {
     "name": "stdout",
     "output_type": "stream",
     "text": [
      "length: 6, items: {'bca', 'bac', 'cba', 'abc', 'cab', 'acb'}\n"
     ]
    }
   ],
   "source": [
    "# An implementation for the Algorithm\n",
    "def puzzleSolve(k, S, U, groups):\n",
    "    for e in U:\n",
    "#         print(f'=============={U}')\n",
    "        S.append(e)\n",
    "        U.remove(e)\n",
    "#         print(f\"k: {k}, e: {e}, U: {U}\")\n",
    "        if k == 1:\n",
    "            groups.update([''.join(S)])  # now we just need to print the condidates\n",
    "        else:\n",
    "            puzzleSolve(k-1, S, U, groups)\n",
    "        U.append(S.pop(-1))\n",
    "        U.sort()  # ensure the order after recovery the U\n",
    "                  # for example, we unavoidable to handle 'abc...', 'acb...'\n",
    "                  # neither append nor insert(0,) method can take these case correctly\n",
    "                  # at the same time.\n",
    "#         print(f'==bottom== k: {k}, S: {S}, U: {U}')\n",
    "        \n",
    "if __name__ == '__main__':\n",
    "    # We need a list instead of a set because it's necessary to keep\n",
    "    # this sequence ordered to avoid duplicating operations in for loop.\n",
    "    # As I found that when using set like {'b', 'a', 'c'} which is orderless in Python\n",
    "    # after an update operation it became from {'b', 'a', 'c'} to {'b', 'c', 'a'}\n",
    "    # Thus, I got twice ['ba'...] and missed ['bc'...]\n",
    "    U = sorted({'a', 'b', 'c', 'c'})\n",
    "    S = []\n",
    "    groups = set()\n",
    "    puzzleSolve(3, S, U, groups)\n",
    "    print(f'length: {len(groups)}, items: {groups}')"
   ]
  },
  {
   "cell_type": "markdown",
   "metadata": {},
   "source": [
    "<img style=\"center\" src=\"R-4_5.jpeg\">"
   ]
  },
  {
   "cell_type": "markdown",
   "metadata": {},
   "source": [
    "### R-4.6\n",
    "Describe a recursive function for computing the $n^{th}$ ***Harmonic number***, $H_n = ∑^n_{i=1} 1/i$."
   ]
  },
  {
   "cell_type": "code",
   "execution_count": 4,
   "metadata": {},
   "outputs": [
    {
     "name": "stdout",
     "output_type": "stream",
     "text": [
      "Algorithm's answer: 2.4499999999999997\n",
      "Checked answer: 2.4499999999999997\n"
     ]
    }
   ],
   "source": [
    "def harmonic(n):\n",
    "    if n <= 1:\n",
    "        return(1)\n",
    "    \n",
    "    return(1/n + harmonic(n-1))\n",
    "\n",
    "numbers = 6\n",
    "print(f\"Algorithm's answer: {harmonic(numbers)}\")\n",
    "\n",
    "# Check\n",
    "print(f'Checked answer: {sum([1/n for n in range(1, numbers+1)])}')"
   ]
  },
  {
   "cell_type": "markdown",
   "metadata": {},
   "source": [
    "### R-4.7\n",
    "Describe a recursive function for converting a string of digits into the integer it represents. For example, '13531' represents the integer 13,531."
   ]
  },
  {
   "cell_type": "markdown",
   "metadata": {},
   "source": [
    "This recursive definition can be formalized as\n",
    "$$\n",
    "Conver2Int(S, n) = \\left\\{ \\begin{array}{lcl}\n",
    "         S[0] \\quad\\quad\\quad\\quad\\quad \\ if\\ n=0\\\\\n",
    "         S_n \\cdot 10^n + S_{n-1} \\cdot 10^{n-1} \\quad\\quad if\\ n \\geq 1\\\\\n",
    "             \\end{array}\\right.\n",
    "$$\n",
    "\n",
    "And an implementation for this definition:"
   ]
  },
  {
   "cell_type": "code",
   "execution_count": 3,
   "metadata": {},
   "outputs": [
    {
     "name": "stdout",
     "output_type": "stream",
     "text": [
      "13531\n"
     ]
    }
   ],
   "source": [
    "String2Int = {\n",
    "    '0': 0,\n",
    "    '1': 1,\n",
    "    '2': 2,\n",
    "    '3': 3,\n",
    "    '4': 4,\n",
    "    '5': 5,\n",
    "    '6': 6,\n",
    "    '7': 7,\n",
    "    '8': 8,\n",
    "    '9': 9,\n",
    "}\n",
    "\n",
    "\n",
    "def Convert2Int(S, n):\n",
    "    n_integer = String2Int[S[n]]  # Converting string to integer\n",
    "    if n == 0:\n",
    "        return(n_integer)\n",
    "    return((10**n*n_integer) + Convert2Int(S, n-1))\n",
    "\n",
    "\n",
    "s = '13531'\n",
    "print(Convert2Int(s, len(s)-1))"
   ]
  },
  {
   "cell_type": "markdown",
   "metadata": {},
   "source": [
    "### R-4.8\n",
    "Isabel has an interesting way of summing up the values in a sequence $A$ of $n$ integers, where $n$ is a power of two. She creates a new sequence $B$ of half the size of $A$ and sets $B[i] = A[2i]+A[2i+1]$, for $i = 0,1,...,(n/2)−1$. If $B$ has size 1, then she outputs $B[0]$. Otherwise, she replaces $A$ with $B$, and repeats the process. What is the running time of her algorithm?"
   ]
  },
  {
   "cell_type": "code",
   "execution_count": 16,
   "metadata": {},
   "outputs": [
    {
     "name": "stdout",
     "output_type": "stream",
     "text": [
      "[95, 51, 37, 15, 93, 75, 0, 0, 97, 44, 77, 7, 35, 84, 26, 97, 80, 55, 56, 6]\n",
      "[146, 52, 168, 0, 141, 84, 119, 123, 135, 62]\n",
      "[198, 168, 225, 242, 197]\n",
      "[366, 467]\n",
      "[833]\n"
     ]
    },
    {
     "data": {
      "text/plain": [
       "[833]"
      ]
     },
     "execution_count": 16,
     "metadata": {},
     "output_type": "execute_result"
    }
   ],
   "source": [
    "import random\n",
    "\n",
    "\n",
    "def interestingSum(A):\n",
    "    '''Implementation for iteration\n",
    "    '''\n",
    "    n = (len(A)-1) // 2\n",
    "    print(n)\n",
    "    B = [A[2*n] + A[2*n+1]]\n",
    "    if n == 1:\n",
    "        return(B[0])\n",
    "    for i in range(1, n):\n",
    "        B.append(A[2*i] + A[2*i+1])\n",
    "\n",
    "    return(B)\n",
    "\n",
    "\n",
    "def interestingSumRecursion(A):\n",
    "    '''Implementation for recursion(used to asymptotic analysis)\n",
    "    '''\n",
    "    print(A)\n",
    "    if len(A) == 1:\n",
    "        return(A)\n",
    "\n",
    "    len_B = len(A) // 2\n",
    "    B = [0] * len_B\n",
    "    for i in range(len_B):\n",
    "        B[i] = A[2*i] + A[2*i+1]\n",
    "\n",
    "    return(interestingSumRecursion(B))\n",
    "\n",
    "\n",
    "LEN = 20\n",
    "A = [random.randint(0, 100) for i in range(LEN)]\n",
    "B = []\n",
    "n = (len(A)-1) // 2\n",
    "interestingSumRecursion(A)"
   ]
  },
  {
   "cell_type": "markdown",
   "metadata": {},
   "source": [
    "As a variation problem from **Figure 4.13** we have a similar architecture as follow:"
   ]
  },
  {
   "cell_type": "markdown",
   "metadata": {},
   "source": [
    "<img style=\"center\" src=\"R-4_8.jpeg\" width=\"50%\" height=\"50%\">"
   ]
  },
  {
   "cell_type": "markdown",
   "metadata": {},
   "source": [
    "At first, This is a **Linear recursion** with each $n$ depth has $2^\\frac{n}{2}$ primitive operations in the **for loop**.<br />\n",
    "And second, we reduce half of $n$ at each recursion call, so the total depth is $logn$ that is:\n",
    "$$\n",
    "interestingSumRecursion(S, n) = \\left\\{ \\begin{array}{lcl}\n",
    "         B[0] \\quad\\quad\\quad\\quad\\quad \\ if\\ n = 1\\\\\n",
    "         \\sum\\frac{n}{2^{log^j}} \\quad\\quad for\\ j = 2, 3, 4, ..., n-1\\\\\n",
    "             \\end{array}\\right.\n",
    "$$\n",
    "Thus, we have total $logn$ depth.\n",
    "The time complexity of this problem is $logn*(2^{\\frac{n}{2}})$ which is $O(n)$."
   ]
  }
 ],
 "metadata": {
  "kernelspec": {
   "display_name": "Py36",
   "language": "python",
   "name": "py36"
  },
  "language_info": {
   "codemirror_mode": {
    "name": "ipython",
    "version": 3
   },
   "file_extension": ".py",
   "mimetype": "text/x-python",
   "name": "python",
   "nbconvert_exporter": "python",
   "pygments_lexer": "ipython3",
   "version": "3.6.8"
  }
 },
 "nbformat": 4,
 "nbformat_minor": 2
}
