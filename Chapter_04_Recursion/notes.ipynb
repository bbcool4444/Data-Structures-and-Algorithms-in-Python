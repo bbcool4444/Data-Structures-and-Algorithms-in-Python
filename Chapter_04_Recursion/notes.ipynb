{
 "cells": [
  {
   "cell_type": "markdown",
   "metadata": {},
   "source": [
    "### 4.0 Recursion\n",
    "\n",
    "* The **factorial function**\n",
    "* An **English ruler**\n",
    "* **Binary search**\n",
    "* The **file system**"
   ]
  },
  {
   "cell_type": "markdown",
   "metadata": {},
   "source": [
    "### 4.1 Illustrative Examples\n",
    "#### 4.1.1 The Factorial Function\n",
    "\n",
    "***recursive definition***\n",
    "\n",
    "There is a natural recursive definition for the factorial function. To see this, observe that $5! = 5·(4·3·2·1) = 5·4!$. More generally, for a positive integer $n$, we can define $n!$ to be $n · (n − 1)!$. This ***recursive definition*** can be formalized as\n",
    "$$\n",
    "n! = \\left\\{ \\begin{array}{lcl}\n",
    "         1 \\quad\\quad\\quad\\quad\\quad\\ \\ if\\ n=0\\\\\n",
    "         n \\cdot (n-1)! \\quad\\quad if\\ n \\geq 1\\\\\n",
    "             \\end{array}\\right.\n",
    "$$"
   ]
  },
  {
   "cell_type": "markdown",
   "metadata": {},
   "source": [
    "#### 4.1.2 Drawing an English Ruler\n",
    "**A Recursive Approach to Ruler Drawing**"
   ]
  },
  {
   "cell_type": "code",
   "execution_count": 8,
   "metadata": {},
   "outputs": [
    {
     "name": "stdout",
     "output_type": "stream",
     "text": [
      "---- 0\n",
      "-\n",
      "--\n",
      "-\n",
      "---\n",
      "-\n",
      "--\n",
      "-\n",
      "---- 1\n",
      "-\n",
      "--\n",
      "-\n",
      "---\n",
      "-\n",
      "--\n",
      "-\n",
      "---- 2\n",
      "==============================\n"
     ]
    }
   ],
   "source": [
    "def draw_line(tick_length, tick_label=''):\n",
    "    \"\"\"Draw one line with given tick length (followed by optional label).\"\"\"\n",
    "    line = '-' * tick_length\n",
    "    if tick_label:\n",
    "        line += ' ' + tick_label\n",
    "    print(line)\n",
    "\n",
    "    \n",
    "def draw_interval(center_length):\n",
    "    \"\"\"Draw tick interval based upon a central tick length.\"\"\"\n",
    "    if center_length > 0:                     # stop when length drops to 0\n",
    "        draw_interval(center_length - 1)      # recursively draw top ticks\n",
    "        draw_line(center_length)              # draw center tick\n",
    "        draw_interval(center_length - 1)      # recursively draw bottom ticks\n",
    "        \n",
    "\n",
    "def draw_ruler(num_inches, major_length):\n",
    "    \"\"\"Draw English ruler with given number of inches and major tick length.\"\"\"\n",
    "    draw_line(major_length, '0')              # draw inch 0 line\n",
    "    for j in range(1, 1 + num_inches):\n",
    "        draw_interval(major_length - 1)       # draw interior ticks for inch\n",
    "        draw_line(major_length, str(j))       # draw inch j line and label\n",
    "\n",
    "\n",
    "if __name__ == '__main__':\n",
    "    draw_ruler(2, 4)\n",
    "    print('='*30)"
   ]
  }
 ],
 "metadata": {
  "kernelspec": {
   "display_name": "Py36",
   "language": "python",
   "name": "py36"
  },
  "language_info": {
   "codemirror_mode": {
    "name": "ipython",
    "version": 3
   },
   "file_extension": ".py",
   "mimetype": "text/x-python",
   "name": "python",
   "nbconvert_exporter": "python",
   "pygments_lexer": "ipython3",
   "version": "3.6.8"
  }
 },
 "nbformat": 4,
 "nbformat_minor": 2
}
