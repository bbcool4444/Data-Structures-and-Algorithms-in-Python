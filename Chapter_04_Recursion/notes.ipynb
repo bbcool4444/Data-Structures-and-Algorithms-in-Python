{
 "cells": [
  {
   "cell_type": "markdown",
   "metadata": {},
   "source": [
    "### 4.0 Recursion\n",
    "\n",
    "* The **factorial function**\n",
    "* An **English ruler**\n",
    "* **Binary search**\n",
    "* The **file system**"
   ]
  },
  {
   "cell_type": "markdown",
   "metadata": {},
   "source": [
    "### 4.1 Illustrative Examples\n",
    "#### 4.1.1 The Factorial Function\n",
    "\n",
    "***recursive definition***\n",
    "\n",
    "There is a natural recursive definition for the factorial function. To see this, observe that $5! = 5·(4·3·2·1) = 5·4!$. More generally, for a positive integer $n$, we can define $n!$ to be $n · (n − 1)!$. This ***recursive definition*** can be formalized as\n",
    "$$\n",
    "n! = \\left\\{ \\begin{array}{lcl}\n",
    "         1 \\quad\\quad\\quad\\quad\\quad\\ \\ if\\ n=0\\\\\n",
    "         n \\cdot (n-1)! \\quad\\quad if\\ n \\geq 1\\\\\n",
    "             \\end{array}\\right.\n",
    "$$"
   ]
  },
  {
   "cell_type": "markdown",
   "metadata": {},
   "source": [
    "#### 4.1.2 Drawing an English Ruler\n",
    "**A Recursive Approach to Ruler Drawing**"
   ]
  },
  {
   "cell_type": "code",
   "execution_count": 8,
   "metadata": {},
   "outputs": [
    {
     "name": "stdout",
     "output_type": "stream",
     "text": [
      "---- 0\n",
      "-\n",
      "--\n",
      "-\n",
      "---\n",
      "-\n",
      "--\n",
      "-\n",
      "---- 1\n",
      "-\n",
      "--\n",
      "-\n",
      "---\n",
      "-\n",
      "--\n",
      "-\n",
      "---- 2\n",
      "==============================\n"
     ]
    }
   ],
   "source": [
    "def draw_line(tick_length, tick_label=''):\n",
    "    \"\"\"Draw one line with given tick length (followed by optional label).\"\"\"\n",
    "    line = '-' * tick_length\n",
    "    if tick_label:\n",
    "        line += ' ' + tick_label\n",
    "    print(line)\n",
    "\n",
    "    \n",
    "def draw_interval(center_length):\n",
    "    \"\"\"Draw tick interval based upon a central tick length.\"\"\"\n",
    "    if center_length > 0:                     # stop when length drops to 0\n",
    "        draw_interval(center_length - 1)      # recursively draw top ticks\n",
    "        draw_line(center_length)              # draw center tick\n",
    "        draw_interval(center_length - 1)      # recursively draw bottom ticks\n",
    "        \n",
    "\n",
    "def draw_ruler(num_inches, major_length):\n",
    "    \"\"\"Draw English ruler with given number of inches and major tick length.\"\"\"\n",
    "    draw_line(major_length, '0')              # draw inch 0 line\n",
    "    for j in range(1, 1 + num_inches):\n",
    "        draw_interval(major_length - 1)       # draw interior ticks for inch\n",
    "        draw_line(major_length, str(j))       # draw inch j line and label\n",
    "\n",
    "\n",
    "if __name__ == '__main__':\n",
    "    draw_ruler(2, 4)\n",
    "    print('='*30)"
   ]
  },
  {
   "cell_type": "markdown",
   "metadata": {},
   "source": [
    "#### 4.1.3 Binary Search"
   ]
  },
  {
   "cell_type": "markdown",
   "metadata": {},
   "source": [
    "#### 4.1.4 File Systems"
   ]
  },
  {
   "cell_type": "markdown",
   "metadata": {},
   "source": [
    "### 4.2 Analyzing Recursive Algorithms"
   ]
  },
  {
   "cell_type": "markdown",
   "metadata": {},
   "source": [
    "With a recursive algorithm, we will account for each operation that is performed based upon the particular ***activation*** of the function that manages the flow of control at the time it is executed. Stated another way, for each invocation of the function, we only account for the number of operations that are performed within the body of that activation."
   ]
  },
  {
   "cell_type": "markdown",
   "metadata": {},
   "source": [
    "**Computing factorials**\n",
    "$$\n",
    "O(n)\n",
    "$$"
   ]
  },
  {
   "cell_type": "markdown",
   "metadata": {},
   "source": [
    "**Drawing an English Ruler**\n",
    "\n",
    "$$\n",
    "2^c - 1\n",
    "$$"
   ]
  },
  {
   "cell_type": "markdown",
   "metadata": {},
   "source": [
    "**Performing a Binary Search**\n",
    "$$\n",
    "r = \\lfloor log_n \\rfloor + 1\n",
    "$$"
   ]
  },
  {
   "cell_type": "markdown",
   "metadata": {},
   "source": [
    "**Computing Disk Space Usage**"
   ]
  },
  {
   "cell_type": "markdown",
   "metadata": {},
   "source": [
    "### 4.3 Recursion Run Amok\n",
    "\n",
    "Using recursion to solve ***element uniqueness problem***, which time complexity is $O(2^n)$.\n",
    "\n",
    "**An Inefficient Recursion and An Efficient Recursion for computing Fibonacci Numbers**"
   ]
  },
  {
   "cell_type": "markdown",
   "metadata": {},
   "source": [
    "### 4.4 Further Examples of Recursion\n",
    "\n",
    "* If a recursive call starts at most one other, we call this a ***linear recursion***.\n",
    "* If a recursive call may start two others, we call this a ***binary recursion***.\n",
    "* If a recursive call may start three or more others, this is ***multiple recursion***."
   ]
  },
  {
   "cell_type": "markdown",
   "metadata": {},
   "source": [
    "#### 4.4.1 Linear Recursion\n",
    "**Reversing a Sequence with Recursion**"
   ]
  },
  {
   "cell_type": "code",
   "execution_count": 8,
   "metadata": {},
   "outputs": [
    {
     "name": "stdout",
     "output_type": "stream",
     "text": [
      "[9, 8, 7, 6, 5, 4, 3, 2, 1]\n"
     ]
    }
   ],
   "source": [
    "def reverser_with_new_list(S):\n",
    "    '''O(n)'''\n",
    "    length = len(S)\n",
    "    result = [None] * length\n",
    "    count = 1\n",
    "    for i in S:\n",
    "        result[length-count] = i\n",
    "        count += 1\n",
    "\n",
    "    return(result)\n",
    "\n",
    "\n",
    "l = [1, 2, 3, 4, 5, 6, 7, 8, 9]\n",
    "print(reverser_1(l))"
   ]
  },
  {
   "cell_type": "code",
   "execution_count": 5,
   "metadata": {},
   "outputs": [
    {
     "name": "stdout",
     "output_type": "stream",
     "text": [
      "[10, 9, 8, 7, 6, 5, 3, 3, 3, 1]\n"
     ]
    }
   ],
   "source": [
    "def reverser_interchange(S):\n",
    "    '''O(n)'''\n",
    "    mid = len(S) // 2\n",
    "\n",
    "    for i in range(len(S)):\n",
    "        if i == mid:\n",
    "            return(S)\n",
    "\n",
    "        S[i], S[-(i+1)] = S[-(i+1)], S[i]\n",
    "\n",
    "\n",
    "l = [1, 3, 3, 3, 5, 6, 7, 8, 9, 10]\n",
    "print(reverser_2(l))"
   ]
  },
  {
   "cell_type": "code",
   "execution_count": 7,
   "metadata": {},
   "outputs": [
    {
     "name": "stdout",
     "output_type": "stream",
     "text": [
      "[9, 7, 6, 3, 3, 3, 3, 3, 1]\n"
     ]
    }
   ],
   "source": [
    "def reverse_recursion(S, start, stop):\n",
    "    '''O(n)'''\n",
    "    if start < stop - 1:\n",
    "        S[start], S[stop-1] = S[stop-1], S[start]\n",
    "        reverseRecursion(S, start+1, stop-1)\n",
    "        \n",
    "l = [1, 3, 3, 3, 3, 3, 6, 7, 9]\n",
    "reverseRecursion(l, 0, len(l))\n",
    "print(l)"
   ]
  },
  {
   "cell_type": "markdown",
   "metadata": {},
   "source": [
    "**Recursive Algorithms for Computing Powers**"
   ]
  },
  {
   "cell_type": "code",
   "execution_count": 10,
   "metadata": {},
   "outputs": [
    {
     "data": {
      "text/plain": [
       "64"
      ]
     },
     "execution_count": 10,
     "metadata": {},
     "output_type": "execute_result"
    }
   ],
   "source": [
    "def power(x, n):\n",
    "    '''O(logn)'''\n",
    "    if n == 0:\n",
    "        return 1\n",
    "    else:\n",
    "        partial = power(x, n // 2)\n",
    "        result = partial * partial\n",
    "        if n % 2 == 1:\n",
    "            result *= x\n",
    "        return result\n",
    "    \n",
    "power(4, 3)"
   ]
  },
  {
   "cell_type": "markdown",
   "metadata": {},
   "source": [
    "#### 4.4.2 Binary Recursion"
   ]
  },
  {
   "cell_type": "code",
   "execution_count": 13,
   "metadata": {},
   "outputs": [
    {
     "name": "stdout",
     "output_type": "stream",
     "text": [
      "28\n"
     ]
    }
   ],
   "source": [
    "def binary_sum(S, start, stop):\n",
    "    if start >= stop:\n",
    "        return 0\n",
    "    elif start == stop - 1:\n",
    "        return S[start]\n",
    "    else:\n",
    "        mid = (start + stop) // 2\n",
    "        return binary_sum(S, start, mid) + binary_sum(S, mid, stop)\n",
    "    \n",
    "l = [1, 2, 3, 4, 5, 6, 7]\n",
    "print(binary_sum(l, 0, len(l)))"
   ]
  },
  {
   "cell_type": "markdown",
   "metadata": {},
   "source": [
    "Since each call ***generates two calls($2^n$)*** with the ***twice reduced scale($logn$)*** of the $n$ in each level.\n",
    "\n",
    "So this algorithm is $O(log(2^n))$ thus O(n)."
   ]
  },
  {
   "cell_type": "markdown",
   "metadata": {},
   "source": [
    "#### 4.4.3 Multiple Recursion"
   ]
  },
  {
   "cell_type": "markdown",
   "metadata": {},
   "source": [
    "### 4.6 Eliminating Tail Recursion\n",
    "* The main benefit of a recursive approach to algorithm design\n",
    "* How can we transfer a recursion to a nonrecursion\n",
    "* Some forms of recursion can be eliminated without any use of axillary memory, for example the **tail recursion**\n",
    "* A tangible example of reimplementing tail recursion **nonrecursively**"
   ]
  }
 ],
 "metadata": {
  "kernelspec": {
   "display_name": "Py36",
   "language": "python",
   "name": "py36"
  },
  "language_info": {
   "codemirror_mode": {
    "name": "ipython",
    "version": 3
   },
   "file_extension": ".py",
   "mimetype": "text/x-python",
   "name": "python",
   "nbconvert_exporter": "python",
   "pygments_lexer": "ipython3",
   "version": "3.6.8"
  }
 },
 "nbformat": 4,
 "nbformat_minor": 2
}
