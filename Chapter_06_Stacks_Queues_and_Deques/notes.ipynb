{
 "cells": [
  {
   "cell_type": "code",
   "execution_count": 1,
   "metadata": {},
   "outputs": [
    {
     "data": {
      "text/plain": [
       "'3.6.8 |Anaconda, Inc.| (default, Dec 29 2018, 19:04:46) \\n[GCC 4.2.1 Compatible Clang 4.0.1 (tags/RELEASE_401/final)]'"
      ]
     },
     "execution_count": 1,
     "metadata": {},
     "output_type": "execute_result"
    }
   ],
   "source": [
    "import sys; sys.version"
   ]
  },
  {
   "cell_type": "markdown",
   "metadata": {},
   "source": [
    "## 6.1 Stacks\n",
    "* A stack is a collection of objects that are inserted and removed according to the ***last-in, first-out (LIFO)*** principle.\n",
    "* The name “stack” is derived from the metaphor of a stack of plates in a spring-loaded, cafeteria plate dispenser.\n",
    "\n",
    "### 6.1.1 The Stack Abstract Data Type\n",
    "Formally, a stack is an abstract data type (ADT) such that an instance `S` supports the following two methods:<br />\n",
    "**S.push(e):** Add element `e` to the top of stack `S`.<br />\n",
    "**S.pop():** Remove and return the top element from the stack `S`; an error occurs if the stack is empty.\n",
    "\n",
    "### 6.1.2 Simple Array-Based Stack Implementation\n",
    "* Although a programmer could directly use the list class in place of a formal stack class, lists also include behaviors (e.g., adding or removing elements from arbitrary positions) that would break the abstraction that the stack ADT represents. Also, the terminology used by the list class does not precisely align with traditional nomenclature for a stack ADT, in particular the distinction between append and push. Instead, we demonstrate how to use a list for internal storage while providing a public interface consistent with a stack.\n",
    "* Using the ***adapter design pattern*** to define an ArrayStack class that uses an underlying Python list for storage.\n",
    "* Analyzing the Array-Based Stack Implementation\n",
    "* Avoiding Amortization by Reserving Capacity\n",
    "\n",
    "### 6.1.3 Reversing Data Using a Stack\n",
    "* Code Fragment 6.3: A function that reverses the order of lines in a file.\n",
    "\n",
    "### 6.1.4 Matching Parentheses and HTML Tags\n",
    "* An Algorithm for Matching Delimiters<br />\n",
    "    If the length of the original expression is $n$, the algorithm will make at most $n$ calls to push and $n$ calls to pop. Those calls run in a total of $O(n)$ time, even considering the amortized nature of the $O(1)$ time bound for those methods. Given that our selection of possible delimiters, `({[`, has constant size, auxiliary tests such as `c in lefty` and `righty.index(c)` each run in $O(1)$ time. Combining these operations, the matching algorithm on a sequence of length $n$ runs in $O(n)$ time.\n",
    "* Matching Tags in a Markup Language"
   ]
  },
  {
   "cell_type": "markdown",
   "metadata": {},
   "source": [
    "## 6.2 Queues\n",
    "* Some metaphor for the terminology\n",
    "\n",
    "### 6.2.1 The Queue Abstract Data Type\n",
    "* Formally, the queue abstract data type defines a collection that keeps objects in a sequence, where element access and deletion are restricted to the first element in the queue, and element insertion is restricted to the back of the sequence. This restriction enforces the rule that items are inserted and deleted in a queue according to the ***first-in, first-out (FIFO)*** principle.\n",
    "\n",
    "### 6.2.2 Array-Based Queue Implementation\n",
    "* For the stack ADT, we created a very simple adapter class that used a Python list as the underlying storage. It may be very tempting to use a similar approach for supporting the queue ADT. As easy as this would be to implement, it is ***tragically inefficient***.\n",
    "* Using an Array Circularly and its Python implementation(Code Fragment 6.7)."
   ]
  },
  {
   "cell_type": "code",
   "execution_count": 1,
   "metadata": {},
   "outputs": [
    {
     "name": "stdout",
     "output_type": "stream",
     "text": [
      "27\n",
      "0\n"
     ]
    }
   ],
   "source": [
    "'''Code Fragment 6.7: Array-based implementation of a queue\n",
    "   (continued from Code Fragment 6.6).\n",
    "'''\n",
    "\n",
    "\n",
    "class Empty(Exception):\n",
    "    pass\n",
    "\n",
    "\n",
    "class ArrayQueue:\n",
    "    '''FIFO queue implementation using a Python list as underlying storage.\n",
    "    '''\n",
    "    DEFAULT_CAPACITY = 10  # moderate capacity for all new queues\n",
    "    \n",
    "    def __init__(self):\n",
    "        '''Create an empty queue.\n",
    "        '''\n",
    "        self._data = [None] * ArrayQueue.DEFAULT_CAPACITY\n",
    "        self._size = 0\n",
    "        self._front = 0\n",
    "    \n",
    "    def __len__(self):\n",
    "        '''Return the number of elements in the queue.\n",
    "        '''\n",
    "        return(self._size)\n",
    "\n",
    "    def is_empty(self):\n",
    "        '''Return True if the queue is empty.\n",
    "        '''\n",
    "        return(self._size == 0)\n",
    "\n",
    "    def first(self):\n",
    "        '''Return (but do not remove) the element at the front of the queue.\n",
    "           Raise Empty exception if the queue is empty.\n",
    "        '''\n",
    "        if self.is_empty():\n",
    "            raise Empty('Queue is empty')\n",
    "        return(self._data[self._front])\n",
    "\n",
    "    def dequeue(self):\n",
    "        '''Remove and return the first element of the queue (i.e., FIFO).\n",
    "           Raise Empty exception if the queue is empty.\n",
    "        '''\n",
    "        if self.is_empty():\n",
    "            raise Empty('Queue is empty')\n",
    "        answer = self._data[self._front]\n",
    "        self._data[self._front] = None\n",
    "        self._front = (self._front + 1) % len(self._data)\n",
    "        self._size -= 1\n",
    "        # Shrinking the Underlying Array\n",
    "        if 0 < self._size < len(self._data) // 4:\n",
    "            self._resize(len(self._data)//2)\n",
    "            \n",
    "        return(answer)\n",
    "\n",
    "    def enqueue(self, e):\n",
    "        '''Add an element to the back of queue.\n",
    "        '''\n",
    "        if self._size == len(self._data):\n",
    "            self._resize(2 * len(self._data))  # double the array size\n",
    "        avail = (self._front + self._size) % len(self._data)\n",
    "        self._data[avail] = e\n",
    "        self._size += 1\n",
    "          \n",
    "    def _resize(self, cap):               # we assume cap >= len(self)\n",
    "        '''Resize to a new list of capacity >= len(self).\n",
    "        '''\n",
    "        old = self._data                  # keep track of existing list\n",
    "        self._data = [None] * cap         # allocate list with new capacity\n",
    "        walk = self._front\n",
    "        for k in range(self._size):       # only consider existing elements\n",
    "            self._data[k] = old[walk]     # intentionally shift indices\n",
    "            walk = (1 + walk) % len(old)  # use old size as modulus\n",
    "        self._front = 0                   # front has been realigned\n",
    "        \n",
    "        \n",
    "if __name__ == '__main__':\n",
    "    aq = ArrayQueue()\n",
    "    for i in range(27):\n",
    "        aq.enqueue(i)\n",
    "    print(len(aq))\n",
    "    [aq.dequeue() for i in range(27)]\n",
    "    print(len(aq))"
   ]
  },
  {
   "cell_type": "markdown",
   "metadata": {},
   "source": [
    "* Adding and Removing Elements\n",
    "* Resizing the Queue<br />\n",
    "    While transferring the contents, we intentionally realign the front of the queue with index $0$ in the new array, as shown in Figure 6.7. This realignment is ***not purely cosmetic***. Since the modular arithmetic depends on the size of the array, our state would be flawed had we transferred each element to its same index in the new array.\n",
    "* Shrinking the Underlying Array\n",
    "* Analyzing the Array-Based Queue Implementation"
   ]
  },
  {
   "cell_type": "markdown",
   "metadata": {},
   "source": [
    "## 6.3 Double-Ended Queues\n",
    "* We next consider a queue-like data structure that supports insertion and deletion at both the front and the back of the queue. Such a structure is called a double- ended queue, or deque, which is usually pronounced “deck” to avoid confusion with the dequeue method of the regular queue ADT, which is pronounced like the abbreviation “D.Q.”\n",
    "\n",
    "### 6.3.1 The Deque Abstract Data Type\n",
    "**D.add first(e):** Add element e to the front of deque D.<br />\n",
    "**D.add last(e):** Add element e to the back of deque D.<br />\n",
    "**D.delete first():** Remove and return the first element from deque D; an error occurs if the deque is empty.<br />\n",
    "**D.delete last( ):** Remove and return the last element from deque D; an error occurs if the deque is empty.<br />\n",
    "\n",
    "Additionally, the deque ADT will include the following accessors:<br />\n",
    "**D.first( ):** Return (but do not remove) the first element of deque D; an error occurs if the deque is empty.<br />\n",
    "**D.last():** Return (but do not remove) the last element of deque D; an error occurs if the deque is empty.<br />\n",
    "**D.is empty( ):** Return True if deque D does not contain any elements.<br />\n",
    "**len(D):** Return the number of elements in deque D; in Python, we implement this with the special method `__len__`.\n",
    "\n",
    "### 6.3.2 Implementing a Deque with a Circular Array\n",
    "* The efficiency of an `ArrayDeque` is similar to that of an `ArrayQueue`, with all operations having $O(1)$ running time, but with that bound being amortized for operations that may change the size of the underlying list.\n",
    "\n",
    "### 6.3.3 Deques in the Python Collections Module\n",
    "* The current Python distribution implements `collections.deque` with a hybrid approach that uses aspects of **circular arrays**, but organized into blocks that are themselves organized in a **doubly linked list**(a data structure that we will introduce in the next chapter). The deque class is formally documented to guarantee $O(1)$-time operations at either end, but $O(n)$-time worst-case operations when using index notation near the middle of the deque."
   ]
  }
 ],
 "metadata": {
  "kernelspec": {
   "display_name": "Py36",
   "language": "python",
   "name": "py36"
  },
  "language_info": {
   "codemirror_mode": {
    "name": "ipython",
    "version": 3
   },
   "file_extension": ".py",
   "mimetype": "text/x-python",
   "name": "python",
   "nbconvert_exporter": "python",
   "pygments_lexer": "ipython3",
   "version": "3.6.8"
  }
 },
 "nbformat": 4,
 "nbformat_minor": 2
}
