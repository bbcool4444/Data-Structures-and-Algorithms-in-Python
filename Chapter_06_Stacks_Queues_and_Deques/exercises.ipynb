{
 "cells": [
  {
   "cell_type": "markdown",
   "metadata": {},
   "source": [
    "### <span style=\"color:red\">R-6.1<span />\n",
    "What values are returned during the following series of stack operations, if executed upon an initially empty stack? `push(5), push(3), pop(), push(2), push(8), pop(), pop(), push(9), push(1), pop(), push(7), push(6), pop(), pop(), push(4), pop(), pop()`.\n",
    "\n"
   ]
  },
  {
   "cell_type": "markdown",
   "metadata": {},
   "source": [
    "### <span style=\"color:red\">R-6.2<span />\n",
    "Suppose an initially empty stack $S$ has executed a total of $25$ `push` operations, $12$ top operations, and $10$ `pop` operations, $3$ of which raised `Empty` errors that were caught and ignored. What is the current size of $S$?"
   ]
  },
  {
   "cell_type": "markdown",
   "metadata": {},
   "source": [
    "### <span style=\"color:red\">R-6.3<span />\n",
    "Implement a function with signature `transfer(S, T)` that transfers all elements from stack `S` onto stack `T`, so that the element that starts at the top of `S` is the first to be inserted onto `T`, and the element at the bottom of `S` ends up at the top of `T`."
   ]
  },
  {
   "cell_type": "markdown",
   "metadata": {},
   "source": [
    "### <span style=\"color:red\">R-6.4<span />\n",
    "Give a recursive method for removing all the elements from a stack."
   ]
  },
  {
   "cell_type": "markdown",
   "metadata": {},
   "source": [
    "### <span style=\"color:red\">R-6.5<span />\n",
    "Implement a function that reverses a list of elements by pushing them on to\n",
    "a stack in one order, and writing them back to the list in reversed order."
   ]
  },
  {
   "cell_type": "markdown",
   "metadata": {},
   "source": [
    "### <span style=\"color:red\">R-6.6\n",
    "<span />Give a precise and complete definition of the concept of matching for grouping symbols in an arithmetic expression. Your definition may be\n",
    "recursive."
   ]
  },
  {
   "cell_type": "markdown",
   "metadata": {},
   "source": [
    "### <span style=\"color:red\">R-6.7<span />\n",
    "What values are returned during the following sequence of queue operations, if executed on an initially empty queue? `enqueue(5), enqueue(3), dequeue(), enqueue(2), enqueue(8), dequeue(), dequeue(), enqueue(9), enqueue(1), dequeue(), enqueue(7), enqueue(6), dequeue(), dequeue(), enqueue(4), dequeue(), dequeue()`."
   ]
  },
  {
   "cell_type": "markdown",
   "metadata": {},
   "source": [
    "### <span style=\"color:red\">R-6.8<span />\n",
    "Suppose an initially empty queue `Q` has executed a total of $32$ enqueue operations, $10$ `first` operations, and $15$ `dequeue` operations, $5$ of which raised `Empty` errors that were caught and ignored. What is the current size of `Q`?"
   ]
  },
  {
   "cell_type": "markdown",
   "metadata": {},
   "source": [
    "### <span style=\"color:red\">R-6.9<span />\n",
    "Had the queue of the previous problem been an instance of `ArrayQueue` that used an initial array of capacity $30$, and had its size never been greater than $30$, what would be the final value of the `_front` instance variable?"
   ]
  },
  {
   "cell_type": "markdown",
   "metadata": {},
   "source": [
    "### <span style=\"color:red\">R-6.10<span />\n",
    "Consider what happens if the loop in the `ArrayQueue`. resize method at lines $53–55$ of Code Fragment 6.7 had been implemented as:\n",
    "```python\n",
    "for k in range(self._size):\n",
    "    self._data[k] = old[k]  # rather than old[walk]\n",
    "```\n",
    "Give a clear explanation of what could go wrong."
   ]
  },
  {
   "cell_type": "markdown",
   "metadata": {},
   "source": [
    "### <span style=\"color:red\">R-6.11<span/>\n",
    "Give a simple adapter that implements our queue ADT while using a collections.deque instance for storage.\n",
    "\n"
   ]
  },
  {
   "cell_type": "markdown",
   "metadata": {},
   "source": [
    "### <span style=\"color:red\">R-6.12<span/>\n",
    "\n",
    "What values are returned during the following sequence of deque ADT operations, on initially empty deque? `add first(4), add last(8), add last(9), add first(5), back(), delete first(), delete last(), add last(7), first(), last(), add last(6), delete first(), delete first()`.\n"
   ]
  },
  {
   "cell_type": "markdown",
   "metadata": {},
   "source": [
    "### <span style=\"color:red\">R-6.13<span/>\n",
    "Suppose you have a deque `D` containing the numbers $(1,2,3,4,5,6,7,8)$, in this order. Suppose further that you have an initially empty queue `Q`. Give a code fragment that uses only `D` and `Q` (and no other variables) and results in `D` storing the elements in the order $(1,2,3,5,4,6,7,8)$."
   ]
  },
  {
   "cell_type": "markdown",
   "metadata": {},
   "source": [
    "### <span style=\"color:red\">R-6.14<span/>\n",
    "Repeat the previous problem using the deque `D` and an initially empty stack `S`."
   ]
  }
 ],
 "metadata": {
  "kernelspec": {
   "display_name": "Py36",
   "language": "python",
   "name": "py36"
  },
  "language_info": {
   "codemirror_mode": {
    "name": "ipython",
    "version": 3
   },
   "file_extension": ".py",
   "mimetype": "text/x-python",
   "name": "python",
   "nbconvert_exporter": "python",
   "pygments_lexer": "ipython3",
   "version": "3.6.8"
  }
 },
 "nbformat": 4,
 "nbformat_minor": 2
}
